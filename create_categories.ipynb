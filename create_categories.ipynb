{
 "cells": [
  {
   "cell_type": "code",
   "execution_count": 1,
   "id": "a0c7fa8f",
   "metadata": {},
   "outputs": [],
   "source": [
    "import pandas as pd\n"
   ]
  },
  {
   "cell_type": "code",
   "execution_count": 2,
   "id": "7d33793a",
   "metadata": {},
   "outputs": [
    {
     "data": {
      "application/vnd.microsoft.datawrangler.viewer.v0+json": {
       "columns": [
        {
         "name": "index",
         "rawType": "int64",
         "type": "integer"
        },
        {
         "name": "prescription_id",
         "rawType": "int64",
         "type": "integer"
        },
        {
         "name": "patient_id",
         "rawType": "int64",
         "type": "integer"
        },
        {
         "name": "medication_name",
         "rawType": "object",
         "type": "string"
        },
        {
         "name": "prescription_date",
         "rawType": "object",
         "type": "string"
        },
        {
         "name": "medication_category",
         "rawType": "object",
         "type": "string"
        }
       ],
       "conversionMethod": "pd.DataFrame",
       "ref": "28cee15e-c6be-4d6f-a332-e46fb809e68d",
       "rows": [
        [
         "0",
         "1",
         "15",
         "Ibuprofen",
         "2023-04-07",
         "Pain Relief"
        ],
        [
         "1",
         "2",
         "8",
         "Metformin",
         "2023-01-24",
         "Diabetes"
        ],
        [
         "2",
         "3",
         "37",
         "Lisinopril",
         "2023-03-03",
         "Heart"
        ],
        [
         "3",
         "4",
         "23",
         "Atorvastatin",
         "2023-01-14",
         "Heart"
        ],
        [
         "4",
         "5",
         "24",
         "Atorvastatin",
         "2023-03-29",
         "Heart"
        ],
        [
         "5",
         "6",
         "21",
         "Metformin",
         "2023-03-08",
         "Diabetes"
        ],
        [
         "6",
         "7",
         "49",
         "Amoxicillin",
         "2023-03-04",
         "Antibiotic"
        ],
        [
         "7",
         "8",
         "36",
         "Aspirin",
         "2023-04-07",
         "Common"
        ],
        [
         "8",
         "9",
         "10",
         "Lisinopril",
         "2023-01-29",
         "Heart"
        ],
        [
         "9",
         "10",
         "33",
         "Metformin",
         "2023-03-18",
         "Diabetes"
        ]
       ],
       "shape": {
        "columns": 5,
        "rows": 10
       }
      },
      "text/html": [
       "<div>\n",
       "<style scoped>\n",
       "    .dataframe tbody tr th:only-of-type {\n",
       "        vertical-align: middle;\n",
       "    }\n",
       "\n",
       "    .dataframe tbody tr th {\n",
       "        vertical-align: top;\n",
       "    }\n",
       "\n",
       "    .dataframe thead th {\n",
       "        text-align: right;\n",
       "    }\n",
       "</style>\n",
       "<table border=\"1\" class=\"dataframe\">\n",
       "  <thead>\n",
       "    <tr style=\"text-align: right;\">\n",
       "      <th></th>\n",
       "      <th>prescription_id</th>\n",
       "      <th>patient_id</th>\n",
       "      <th>medication_name</th>\n",
       "      <th>prescription_date</th>\n",
       "      <th>medication_category</th>\n",
       "    </tr>\n",
       "  </thead>\n",
       "  <tbody>\n",
       "    <tr>\n",
       "      <th>0</th>\n",
       "      <td>1</td>\n",
       "      <td>15</td>\n",
       "      <td>Ibuprofen</td>\n",
       "      <td>2023-04-07</td>\n",
       "      <td>Pain Relief</td>\n",
       "    </tr>\n",
       "    <tr>\n",
       "      <th>1</th>\n",
       "      <td>2</td>\n",
       "      <td>8</td>\n",
       "      <td>Metformin</td>\n",
       "      <td>2023-01-24</td>\n",
       "      <td>Diabetes</td>\n",
       "    </tr>\n",
       "    <tr>\n",
       "      <th>2</th>\n",
       "      <td>3</td>\n",
       "      <td>37</td>\n",
       "      <td>Lisinopril</td>\n",
       "      <td>2023-03-03</td>\n",
       "      <td>Heart</td>\n",
       "    </tr>\n",
       "    <tr>\n",
       "      <th>3</th>\n",
       "      <td>4</td>\n",
       "      <td>23</td>\n",
       "      <td>Atorvastatin</td>\n",
       "      <td>2023-01-14</td>\n",
       "      <td>Heart</td>\n",
       "    </tr>\n",
       "    <tr>\n",
       "      <th>4</th>\n",
       "      <td>5</td>\n",
       "      <td>24</td>\n",
       "      <td>Atorvastatin</td>\n",
       "      <td>2023-03-29</td>\n",
       "      <td>Heart</td>\n",
       "    </tr>\n",
       "    <tr>\n",
       "      <th>5</th>\n",
       "      <td>6</td>\n",
       "      <td>21</td>\n",
       "      <td>Metformin</td>\n",
       "      <td>2023-03-08</td>\n",
       "      <td>Diabetes</td>\n",
       "    </tr>\n",
       "    <tr>\n",
       "      <th>6</th>\n",
       "      <td>7</td>\n",
       "      <td>49</td>\n",
       "      <td>Amoxicillin</td>\n",
       "      <td>2023-03-04</td>\n",
       "      <td>Antibiotic</td>\n",
       "    </tr>\n",
       "    <tr>\n",
       "      <th>7</th>\n",
       "      <td>8</td>\n",
       "      <td>36</td>\n",
       "      <td>Aspirin</td>\n",
       "      <td>2023-04-07</td>\n",
       "      <td>Common</td>\n",
       "    </tr>\n",
       "    <tr>\n",
       "      <th>8</th>\n",
       "      <td>9</td>\n",
       "      <td>10</td>\n",
       "      <td>Lisinopril</td>\n",
       "      <td>2023-01-29</td>\n",
       "      <td>Heart</td>\n",
       "    </tr>\n",
       "    <tr>\n",
       "      <th>9</th>\n",
       "      <td>10</td>\n",
       "      <td>33</td>\n",
       "      <td>Metformin</td>\n",
       "      <td>2023-03-18</td>\n",
       "      <td>Diabetes</td>\n",
       "    </tr>\n",
       "  </tbody>\n",
       "</table>\n",
       "</div>"
      ],
      "text/plain": [
       "   prescription_id  patient_id medication_name prescription_date  \\\n",
       "0                1          15       Ibuprofen        2023-04-07   \n",
       "1                2           8       Metformin        2023-01-24   \n",
       "2                3          37      Lisinopril        2023-03-03   \n",
       "3                4          23    Atorvastatin        2023-01-14   \n",
       "4                5          24    Atorvastatin        2023-03-29   \n",
       "5                6          21       Metformin        2023-03-08   \n",
       "6                7          49     Amoxicillin        2023-03-04   \n",
       "7                8          36         Aspirin        2023-04-07   \n",
       "8                9          10      Lisinopril        2023-01-29   \n",
       "9               10          33       Metformin        2023-03-18   \n",
       "\n",
       "  medication_category  \n",
       "0         Pain Relief  \n",
       "1            Diabetes  \n",
       "2               Heart  \n",
       "3               Heart  \n",
       "4               Heart  \n",
       "5            Diabetes  \n",
       "6          Antibiotic  \n",
       "7              Common  \n",
       "8               Heart  \n",
       "9            Diabetes  "
      ]
     },
     "execution_count": 2,
     "metadata": {},
     "output_type": "execute_result"
    }
   ],
   "source": [
    "# Load the CSV file\n",
    "df = pd.read_csv(\"sample_datasets/prescriptions_with_categories.csv\")\n",
    "\n",
    "# Update the category for Aspirin\n",
    "df.loc[df[\"medication_name\"] == \"Aspirin\", \"medication_category\"] = \"Common\"\n",
    "\n",
    "df.head(10)"
   ]
  },
  {
   "cell_type": "code",
   "execution_count": 3,
   "id": "ead32b9f",
   "metadata": {},
   "outputs": [
    {
     "data": {
      "application/vnd.microsoft.datawrangler.viewer.v0+json": {
       "columns": [
        {
         "name": "index",
         "rawType": "int64",
         "type": "integer"
        },
        {
         "name": "id_category",
         "rawType": "int64",
         "type": "integer"
        },
        {
         "name": "category_name",
         "rawType": "object",
         "type": "string"
        }
       ],
       "conversionMethod": "pd.DataFrame",
       "ref": "a1eb5e4e-9baa-4421-875a-f0ab85a968f6",
       "rows": [
        [
         "0",
         "1",
         "Pain Relief"
        ],
        [
         "1",
         "2",
         "Diabetes"
        ],
        [
         "2",
         "3",
         "Heart"
        ],
        [
         "3",
         "4",
         "Antibiotic"
        ],
        [
         "4",
         "5",
         "Common"
        ]
       ],
       "shape": {
        "columns": 2,
        "rows": 5
       }
      },
      "text/html": [
       "<div>\n",
       "<style scoped>\n",
       "    .dataframe tbody tr th:only-of-type {\n",
       "        vertical-align: middle;\n",
       "    }\n",
       "\n",
       "    .dataframe tbody tr th {\n",
       "        vertical-align: top;\n",
       "    }\n",
       "\n",
       "    .dataframe thead th {\n",
       "        text-align: right;\n",
       "    }\n",
       "</style>\n",
       "<table border=\"1\" class=\"dataframe\">\n",
       "  <thead>\n",
       "    <tr style=\"text-align: right;\">\n",
       "      <th></th>\n",
       "      <th>id_category</th>\n",
       "      <th>category_name</th>\n",
       "    </tr>\n",
       "  </thead>\n",
       "  <tbody>\n",
       "    <tr>\n",
       "      <th>0</th>\n",
       "      <td>1</td>\n",
       "      <td>Pain Relief</td>\n",
       "    </tr>\n",
       "    <tr>\n",
       "      <th>1</th>\n",
       "      <td>2</td>\n",
       "      <td>Diabetes</td>\n",
       "    </tr>\n",
       "    <tr>\n",
       "      <th>2</th>\n",
       "      <td>3</td>\n",
       "      <td>Heart</td>\n",
       "    </tr>\n",
       "    <tr>\n",
       "      <th>3</th>\n",
       "      <td>4</td>\n",
       "      <td>Antibiotic</td>\n",
       "    </tr>\n",
       "    <tr>\n",
       "      <th>4</th>\n",
       "      <td>5</td>\n",
       "      <td>Common</td>\n",
       "    </tr>\n",
       "  </tbody>\n",
       "</table>\n",
       "</div>"
      ],
      "text/plain": [
       "   id_category category_name\n",
       "0            1   Pain Relief\n",
       "1            2      Diabetes\n",
       "2            3         Heart\n",
       "3            4    Antibiotic\n",
       "4            5        Common"
      ]
     },
     "execution_count": 3,
     "metadata": {},
     "output_type": "execute_result"
    }
   ],
   "source": [
    "s = df[\"medication_category\"].drop_duplicates()\n",
    "\n",
    "df_categories = pd.DataFrame({\n",
    "    'id_category': range(1, len(s)+1),\n",
    "    'category_name': s.values\n",
    "})\n",
    "\n",
    "df_categories"
   ]
  },
  {
   "cell_type": "code",
   "execution_count": 4,
   "id": "8973de51",
   "metadata": {},
   "outputs": [],
   "source": [
    "df = df.merge(df_categories, left_on=\"medication_category\", right_on=\"category_name\", how=\"inner\").drop(columns=[\"medication_category\", \"category_name\"])"
   ]
  },
  {
   "cell_type": "code",
   "execution_count": 5,
   "id": "755a80c4",
   "metadata": {},
   "outputs": [],
   "source": [
    "df_categories.to_csv(\"sample_datasets/categories.csv\", index=False)\n",
    "df.to_csv(\"sample_datasets/prescriptions2.csv\", index=False)"
   ]
  }
 ],
 "metadata": {
  "kernelspec": {
   "display_name": ".venv",
   "language": "python",
   "name": "python3"
  },
  "language_info": {
   "codemirror_mode": {
    "name": "ipython",
    "version": 3
   },
   "file_extension": ".py",
   "mimetype": "text/x-python",
   "name": "python",
   "nbconvert_exporter": "python",
   "pygments_lexer": "ipython3",
   "version": "3.13.2"
  }
 },
 "nbformat": 4,
 "nbformat_minor": 5
}
