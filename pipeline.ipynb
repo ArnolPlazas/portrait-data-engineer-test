{
 "cells": [
  {
   "cell_type": "markdown",
   "id": "88393816",
   "metadata": {},
   "source": [
    "# Healthcare Analytics Pipeline"
   ]
  },
  {
   "cell_type": "markdown",
   "id": "42d8f5cc",
   "metadata": {},
   "source": [
    "## Imports libraries"
   ]
  },
  {
   "cell_type": "code",
   "execution_count": 1,
   "id": "fe2d60cf",
   "metadata": {},
   "outputs": [],
   "source": [
    "import pandas as pd\n",
    "from sqlalchemy import create_engine\n",
    "from sqlalchemy.exc import SQLAlchemyError\n",
    "from dotenv import load_dotenv\n",
    "import os\n",
    "from datetime import datetime\n",
    "\n",
    "import matplotlib.pyplot as plt\n",
    "import seaborn as sns\n"
   ]
  },
  {
   "cell_type": "markdown",
   "id": "0badae11",
   "metadata": {},
   "source": [
    "## Connection"
   ]
  },
  {
   "cell_type": "code",
   "execution_count": 2,
   "id": "be3b1eec",
   "metadata": {},
   "outputs": [],
   "source": [
    "# Load environment variables\n",
    "load_dotenv()\n",
    "\n",
    "# Fetch credentials\n",
    "username = os.getenv('DB_USERNAME')\n",
    "password = os.getenv('DB_PASSWORD')\n",
    "host = os.getenv('DB_HOST')\n",
    "port = os.getenv('DB_PORT')\n",
    "database = os.getenv('DB_DATABASE')\n",
    "\n",
    "# Create the connection URL\n",
    "connection_url = f'postgresql://{username}:{password}@{host}:{port}/{database}'"
   ]
  },
  {
   "cell_type": "code",
   "execution_count": 3,
   "id": "ca836e29",
   "metadata": {},
   "outputs": [
    {
     "name": "stdout",
     "output_type": "stream",
     "text": [
      "Database connection successful.\n"
     ]
    }
   ],
   "source": [
    "try:\n",
    "    # Try to create the engine and connect\n",
    "    engine = create_engine(connection_url)\n",
    "    connection = engine.connect()\n",
    "    print(\"Database connection successful.\")\n",
    "except SQLAlchemyError as e:\n",
    "    print(\"Database connection failed.\")\n",
    "    print(e)\n",
    "    exit(1)  # Stop the script if connection fails"
   ]
  },
  {
   "cell_type": "markdown",
   "id": "13dc6089",
   "metadata": {},
   "source": [
    "## Data Ingestion"
   ]
  },
  {
   "cell_type": "code",
   "execution_count": 4,
   "id": "08e207ca",
   "metadata": {},
   "outputs": [],
   "source": [
    "# Function to read a table safely\n",
    "def read_table(table_name, engine):\n",
    "    try:\n",
    "        df = pd.read_sql(f\"SELECT * FROM {table_name}\", con=engine)\n",
    "        print(f\"Successfully read table '{table_name}'.\")\n",
    "        return df\n",
    "    except SQLAlchemyError as e:\n",
    "        print(f\"Failed to read table '{table_name}'.\")\n",
    "        print(e)\n",
    "        return None"
   ]
  },
  {
   "cell_type": "code",
   "execution_count": 5,
   "id": "e27d6b5d",
   "metadata": {},
   "outputs": [
    {
     "name": "stdout",
     "output_type": "stream",
     "text": [
      "Successfully read table 'patients'.\n",
      "Successfully read table 'appointments'.\n",
      "Successfully read table 'providers'.\n",
      "Successfully read table 'prescriptions'.\n",
      "Successfully read table 'categories'.\n"
     ]
    }
   ],
   "source": [
    "# Query into a DataFrame\n",
    "tables = [\"patients\", \"appointments\", \"providers\", \"prescriptions\", \"categories\"]\n",
    "dfs = {}\n",
    "\n",
    "for table in tables:\n",
    "    df = read_table(table, engine)\n",
    "    if df is not None:\n",
    "        dfs[table] = df\n",
    "    \n",
    "connection.close()"
   ]
  },
  {
   "cell_type": "code",
   "execution_count": 6,
   "id": "b34e57d9",
   "metadata": {},
   "outputs": [
    {
     "data": {
      "application/vnd.microsoft.datawrangler.viewer.v0+json": {
       "columns": [
        {
         "name": "index",
         "rawType": "int64",
         "type": "integer"
        },
        {
         "name": "patient_id",
         "rawType": "int64",
         "type": "integer"
        },
        {
         "name": "name",
         "rawType": "object",
         "type": "string"
        },
        {
         "name": "age",
         "rawType": "float64",
         "type": "float"
        },
        {
         "name": "gender",
         "rawType": "object",
         "type": "string"
        },
        {
         "name": "registration_date",
         "rawType": "object",
         "type": "string"
        }
       ],
       "conversionMethod": "pd.DataFrame",
       "ref": "9f2badea-ccb6-4a07-ba91-91f495132be4",
       "rows": [
        [
         "0",
         "1",
         "John Hill",
         "89.0",
         "Male",
         "2023-08-23"
        ],
        [
         "1",
         "2",
         "Adam Chavez",
         "21.0",
         "Male",
         "2024-04-01"
        ],
        [
         "2",
         "3",
         "Troy Scott",
         "36.0",
         "Male",
         "2020-03-04"
        ],
        [
         "3",
         "4",
         "Joan Ross",
         "77.0",
         "Female",
         "2021-09-24"
        ],
        [
         "4",
         "5",
         "Stephanie Giles",
         "41.0",
         "Female",
         "2022-08-17"
        ]
       ],
       "shape": {
        "columns": 5,
        "rows": 5
       }
      },
      "text/html": [
       "<div>\n",
       "<style scoped>\n",
       "    .dataframe tbody tr th:only-of-type {\n",
       "        vertical-align: middle;\n",
       "    }\n",
       "\n",
       "    .dataframe tbody tr th {\n",
       "        vertical-align: top;\n",
       "    }\n",
       "\n",
       "    .dataframe thead th {\n",
       "        text-align: right;\n",
       "    }\n",
       "</style>\n",
       "<table border=\"1\" class=\"dataframe\">\n",
       "  <thead>\n",
       "    <tr style=\"text-align: right;\">\n",
       "      <th></th>\n",
       "      <th>patient_id</th>\n",
       "      <th>name</th>\n",
       "      <th>age</th>\n",
       "      <th>gender</th>\n",
       "      <th>registration_date</th>\n",
       "    </tr>\n",
       "  </thead>\n",
       "  <tbody>\n",
       "    <tr>\n",
       "      <th>0</th>\n",
       "      <td>1</td>\n",
       "      <td>John Hill</td>\n",
       "      <td>89.0</td>\n",
       "      <td>Male</td>\n",
       "      <td>2023-08-23</td>\n",
       "    </tr>\n",
       "    <tr>\n",
       "      <th>1</th>\n",
       "      <td>2</td>\n",
       "      <td>Adam Chavez</td>\n",
       "      <td>21.0</td>\n",
       "      <td>Male</td>\n",
       "      <td>2024-04-01</td>\n",
       "    </tr>\n",
       "    <tr>\n",
       "      <th>2</th>\n",
       "      <td>3</td>\n",
       "      <td>Troy Scott</td>\n",
       "      <td>36.0</td>\n",
       "      <td>Male</td>\n",
       "      <td>2020-03-04</td>\n",
       "    </tr>\n",
       "    <tr>\n",
       "      <th>3</th>\n",
       "      <td>4</td>\n",
       "      <td>Joan Ross</td>\n",
       "      <td>77.0</td>\n",
       "      <td>Female</td>\n",
       "      <td>2021-09-24</td>\n",
       "    </tr>\n",
       "    <tr>\n",
       "      <th>4</th>\n",
       "      <td>5</td>\n",
       "      <td>Stephanie Giles</td>\n",
       "      <td>41.0</td>\n",
       "      <td>Female</td>\n",
       "      <td>2022-08-17</td>\n",
       "    </tr>\n",
       "  </tbody>\n",
       "</table>\n",
       "</div>"
      ],
      "text/plain": [
       "   patient_id             name   age  gender registration_date\n",
       "0           1        John Hill  89.0    Male        2023-08-23\n",
       "1           2      Adam Chavez  21.0    Male        2024-04-01\n",
       "2           3       Troy Scott  36.0    Male        2020-03-04\n",
       "3           4        Joan Ross  77.0  Female        2021-09-24\n",
       "4           5  Stephanie Giles  41.0  Female        2022-08-17"
      ]
     },
     "execution_count": 6,
     "metadata": {},
     "output_type": "execute_result"
    }
   ],
   "source": [
    "dfs[\"patients\"].head()"
   ]
  },
  {
   "cell_type": "code",
   "execution_count": 7,
   "id": "933b4aec",
   "metadata": {},
   "outputs": [
    {
     "data": {
      "application/vnd.microsoft.datawrangler.viewer.v0+json": {
       "columns": [
        {
         "name": "index",
         "rawType": "int64",
         "type": "integer"
        },
        {
         "name": "appointment_id",
         "rawType": "int64",
         "type": "integer"
        },
        {
         "name": "patient_id",
         "rawType": "int64",
         "type": "integer"
        },
        {
         "name": "appointment_date",
         "rawType": "object",
         "type": "string"
        },
        {
         "name": "appointment_type",
         "rawType": "object",
         "type": "string"
        },
        {
         "name": "provider_id",
         "rawType": "int64",
         "type": "integer"
        }
       ],
       "conversionMethod": "pd.DataFrame",
       "ref": "ccba76a7-dba2-4351-9a54-dc98d6a8de14",
       "rows": [
        [
         "0",
         "1",
         "37",
         "2023-02-25",
         "Checkup",
         "4"
        ],
        [
         "1",
         "2",
         "36",
         "2023-03-10",
         "Emergency",
         "7"
        ],
        [
         "2",
         "3",
         "46",
         "2023-04-02",
         "Checkup",
         "3"
        ],
        [
         "3",
         "4",
         "1",
         "2023-01-16",
         "Consultation",
         "6"
        ],
        [
         "4",
         "5",
         "42",
         "2023-03-24",
         "Emergency",
         "4"
        ]
       ],
       "shape": {
        "columns": 5,
        "rows": 5
       }
      },
      "text/html": [
       "<div>\n",
       "<style scoped>\n",
       "    .dataframe tbody tr th:only-of-type {\n",
       "        vertical-align: middle;\n",
       "    }\n",
       "\n",
       "    .dataframe tbody tr th {\n",
       "        vertical-align: top;\n",
       "    }\n",
       "\n",
       "    .dataframe thead th {\n",
       "        text-align: right;\n",
       "    }\n",
       "</style>\n",
       "<table border=\"1\" class=\"dataframe\">\n",
       "  <thead>\n",
       "    <tr style=\"text-align: right;\">\n",
       "      <th></th>\n",
       "      <th>appointment_id</th>\n",
       "      <th>patient_id</th>\n",
       "      <th>appointment_date</th>\n",
       "      <th>appointment_type</th>\n",
       "      <th>provider_id</th>\n",
       "    </tr>\n",
       "  </thead>\n",
       "  <tbody>\n",
       "    <tr>\n",
       "      <th>0</th>\n",
       "      <td>1</td>\n",
       "      <td>37</td>\n",
       "      <td>2023-02-25</td>\n",
       "      <td>Checkup</td>\n",
       "      <td>4</td>\n",
       "    </tr>\n",
       "    <tr>\n",
       "      <th>1</th>\n",
       "      <td>2</td>\n",
       "      <td>36</td>\n",
       "      <td>2023-03-10</td>\n",
       "      <td>Emergency</td>\n",
       "      <td>7</td>\n",
       "    </tr>\n",
       "    <tr>\n",
       "      <th>2</th>\n",
       "      <td>3</td>\n",
       "      <td>46</td>\n",
       "      <td>2023-04-02</td>\n",
       "      <td>Checkup</td>\n",
       "      <td>3</td>\n",
       "    </tr>\n",
       "    <tr>\n",
       "      <th>3</th>\n",
       "      <td>4</td>\n",
       "      <td>1</td>\n",
       "      <td>2023-01-16</td>\n",
       "      <td>Consultation</td>\n",
       "      <td>6</td>\n",
       "    </tr>\n",
       "    <tr>\n",
       "      <th>4</th>\n",
       "      <td>5</td>\n",
       "      <td>42</td>\n",
       "      <td>2023-03-24</td>\n",
       "      <td>Emergency</td>\n",
       "      <td>4</td>\n",
       "    </tr>\n",
       "  </tbody>\n",
       "</table>\n",
       "</div>"
      ],
      "text/plain": [
       "   appointment_id  patient_id appointment_date appointment_type  provider_id\n",
       "0               1          37       2023-02-25          Checkup            4\n",
       "1               2          36       2023-03-10        Emergency            7\n",
       "2               3          46       2023-04-02          Checkup            3\n",
       "3               4           1       2023-01-16     Consultation            6\n",
       "4               5          42       2023-03-24        Emergency            4"
      ]
     },
     "execution_count": 7,
     "metadata": {},
     "output_type": "execute_result"
    }
   ],
   "source": [
    "dfs[\"appointments\"].head()"
   ]
  },
  {
   "cell_type": "code",
   "execution_count": 8,
   "id": "3f63db95",
   "metadata": {},
   "outputs": [
    {
     "data": {
      "application/vnd.microsoft.datawrangler.viewer.v0+json": {
       "columns": [
        {
         "name": "index",
         "rawType": "int64",
         "type": "integer"
        },
        {
         "name": "provider_id",
         "rawType": "int64",
         "type": "integer"
        },
        {
         "name": "name",
         "rawType": "object",
         "type": "string"
        },
        {
         "name": "specialty",
         "rawType": "object",
         "type": "string"
        }
       ],
       "conversionMethod": "pd.DataFrame",
       "ref": "32624d8c-e6c4-4c7e-8a8e-d08ab0293f0c",
       "rows": [
        [
         "0",
         "1",
         "Tiffany Thompson",
         "Pediatrics"
        ],
        [
         "1",
         "2",
         "Renee Brooks",
         "Orthopedics"
        ],
        [
         "2",
         "3",
         "Joseph Johnson",
         "Neurology"
        ],
        [
         "3",
         "4",
         "Todd Jones",
         "Pediatrics"
        ],
        [
         "4",
         "5",
         "Edward Rodriguez",
         "Cardiology"
        ]
       ],
       "shape": {
        "columns": 3,
        "rows": 5
       }
      },
      "text/html": [
       "<div>\n",
       "<style scoped>\n",
       "    .dataframe tbody tr th:only-of-type {\n",
       "        vertical-align: middle;\n",
       "    }\n",
       "\n",
       "    .dataframe tbody tr th {\n",
       "        vertical-align: top;\n",
       "    }\n",
       "\n",
       "    .dataframe thead th {\n",
       "        text-align: right;\n",
       "    }\n",
       "</style>\n",
       "<table border=\"1\" class=\"dataframe\">\n",
       "  <thead>\n",
       "    <tr style=\"text-align: right;\">\n",
       "      <th></th>\n",
       "      <th>provider_id</th>\n",
       "      <th>name</th>\n",
       "      <th>specialty</th>\n",
       "    </tr>\n",
       "  </thead>\n",
       "  <tbody>\n",
       "    <tr>\n",
       "      <th>0</th>\n",
       "      <td>1</td>\n",
       "      <td>Tiffany Thompson</td>\n",
       "      <td>Pediatrics</td>\n",
       "    </tr>\n",
       "    <tr>\n",
       "      <th>1</th>\n",
       "      <td>2</td>\n",
       "      <td>Renee Brooks</td>\n",
       "      <td>Orthopedics</td>\n",
       "    </tr>\n",
       "    <tr>\n",
       "      <th>2</th>\n",
       "      <td>3</td>\n",
       "      <td>Joseph Johnson</td>\n",
       "      <td>Neurology</td>\n",
       "    </tr>\n",
       "    <tr>\n",
       "      <th>3</th>\n",
       "      <td>4</td>\n",
       "      <td>Todd Jones</td>\n",
       "      <td>Pediatrics</td>\n",
       "    </tr>\n",
       "    <tr>\n",
       "      <th>4</th>\n",
       "      <td>5</td>\n",
       "      <td>Edward Rodriguez</td>\n",
       "      <td>Cardiology</td>\n",
       "    </tr>\n",
       "  </tbody>\n",
       "</table>\n",
       "</div>"
      ],
      "text/plain": [
       "   provider_id              name    specialty\n",
       "0            1  Tiffany Thompson   Pediatrics\n",
       "1            2      Renee Brooks  Orthopedics\n",
       "2            3    Joseph Johnson    Neurology\n",
       "3            4        Todd Jones   Pediatrics\n",
       "4            5  Edward Rodriguez   Cardiology"
      ]
     },
     "execution_count": 8,
     "metadata": {},
     "output_type": "execute_result"
    }
   ],
   "source": [
    "dfs[\"providers\"].head()"
   ]
  },
  {
   "cell_type": "code",
   "execution_count": 9,
   "id": "df23572f",
   "metadata": {},
   "outputs": [
    {
     "data": {
      "application/vnd.microsoft.datawrangler.viewer.v0+json": {
       "columns": [
        {
         "name": "index",
         "rawType": "int64",
         "type": "integer"
        },
        {
         "name": "prescription_id",
         "rawType": "int64",
         "type": "integer"
        },
        {
         "name": "patient_id",
         "rawType": "int64",
         "type": "integer"
        },
        {
         "name": "medication_name",
         "rawType": "object",
         "type": "string"
        },
        {
         "name": "prescription_date",
         "rawType": "object",
         "type": "string"
        },
        {
         "name": "id_category",
         "rawType": "int64",
         "type": "integer"
        }
       ],
       "conversionMethod": "pd.DataFrame",
       "ref": "e0226a7e-d029-4f13-8e8d-f2f55fd2f3c7",
       "rows": [
        [
         "0",
         "1",
         "15",
         "Ibuprofen",
         "2023-04-07",
         "1"
        ],
        [
         "1",
         "2",
         "8",
         "Metformin",
         "2023-01-24",
         "2"
        ],
        [
         "2",
         "3",
         "37",
         "Lisinopril",
         "2023-03-03",
         "3"
        ],
        [
         "3",
         "4",
         "23",
         "Atorvastatin",
         "2023-01-14",
         "3"
        ],
        [
         "4",
         "5",
         "24",
         "Atorvastatin",
         "2023-03-29",
         "3"
        ]
       ],
       "shape": {
        "columns": 5,
        "rows": 5
       }
      },
      "text/html": [
       "<div>\n",
       "<style scoped>\n",
       "    .dataframe tbody tr th:only-of-type {\n",
       "        vertical-align: middle;\n",
       "    }\n",
       "\n",
       "    .dataframe tbody tr th {\n",
       "        vertical-align: top;\n",
       "    }\n",
       "\n",
       "    .dataframe thead th {\n",
       "        text-align: right;\n",
       "    }\n",
       "</style>\n",
       "<table border=\"1\" class=\"dataframe\">\n",
       "  <thead>\n",
       "    <tr style=\"text-align: right;\">\n",
       "      <th></th>\n",
       "      <th>prescription_id</th>\n",
       "      <th>patient_id</th>\n",
       "      <th>medication_name</th>\n",
       "      <th>prescription_date</th>\n",
       "      <th>id_category</th>\n",
       "    </tr>\n",
       "  </thead>\n",
       "  <tbody>\n",
       "    <tr>\n",
       "      <th>0</th>\n",
       "      <td>1</td>\n",
       "      <td>15</td>\n",
       "      <td>Ibuprofen</td>\n",
       "      <td>2023-04-07</td>\n",
       "      <td>1</td>\n",
       "    </tr>\n",
       "    <tr>\n",
       "      <th>1</th>\n",
       "      <td>2</td>\n",
       "      <td>8</td>\n",
       "      <td>Metformin</td>\n",
       "      <td>2023-01-24</td>\n",
       "      <td>2</td>\n",
       "    </tr>\n",
       "    <tr>\n",
       "      <th>2</th>\n",
       "      <td>3</td>\n",
       "      <td>37</td>\n",
       "      <td>Lisinopril</td>\n",
       "      <td>2023-03-03</td>\n",
       "      <td>3</td>\n",
       "    </tr>\n",
       "    <tr>\n",
       "      <th>3</th>\n",
       "      <td>4</td>\n",
       "      <td>23</td>\n",
       "      <td>Atorvastatin</td>\n",
       "      <td>2023-01-14</td>\n",
       "      <td>3</td>\n",
       "    </tr>\n",
       "    <tr>\n",
       "      <th>4</th>\n",
       "      <td>5</td>\n",
       "      <td>24</td>\n",
       "      <td>Atorvastatin</td>\n",
       "      <td>2023-03-29</td>\n",
       "      <td>3</td>\n",
       "    </tr>\n",
       "  </tbody>\n",
       "</table>\n",
       "</div>"
      ],
      "text/plain": [
       "   prescription_id  patient_id medication_name prescription_date  id_category\n",
       "0                1          15       Ibuprofen        2023-04-07            1\n",
       "1                2           8       Metformin        2023-01-24            2\n",
       "2                3          37      Lisinopril        2023-03-03            3\n",
       "3                4          23    Atorvastatin        2023-01-14            3\n",
       "4                5          24    Atorvastatin        2023-03-29            3"
      ]
     },
     "execution_count": 9,
     "metadata": {},
     "output_type": "execute_result"
    }
   ],
   "source": [
    "dfs[\"prescriptions\"].head()"
   ]
  },
  {
   "cell_type": "code",
   "execution_count": 10,
   "id": "1f65bbae",
   "metadata": {},
   "outputs": [
    {
     "data": {
      "application/vnd.microsoft.datawrangler.viewer.v0+json": {
       "columns": [
        {
         "name": "index",
         "rawType": "int64",
         "type": "integer"
        },
        {
         "name": "id_category",
         "rawType": "int64",
         "type": "integer"
        },
        {
         "name": "category_name",
         "rawType": "object",
         "type": "string"
        }
       ],
       "conversionMethod": "pd.DataFrame",
       "ref": "d7ce82de-7bf9-4b53-b5d4-5a1303b038a6",
       "rows": [
        [
         "0",
         "1",
         "Pain Relief"
        ],
        [
         "1",
         "2",
         "Diabetes"
        ],
        [
         "2",
         "3",
         "Heart"
        ],
        [
         "3",
         "4",
         "Antibiotic"
        ],
        [
         "4",
         "5",
         "Common"
        ]
       ],
       "shape": {
        "columns": 2,
        "rows": 5
       }
      },
      "text/html": [
       "<div>\n",
       "<style scoped>\n",
       "    .dataframe tbody tr th:only-of-type {\n",
       "        vertical-align: middle;\n",
       "    }\n",
       "\n",
       "    .dataframe tbody tr th {\n",
       "        vertical-align: top;\n",
       "    }\n",
       "\n",
       "    .dataframe thead th {\n",
       "        text-align: right;\n",
       "    }\n",
       "</style>\n",
       "<table border=\"1\" class=\"dataframe\">\n",
       "  <thead>\n",
       "    <tr style=\"text-align: right;\">\n",
       "      <th></th>\n",
       "      <th>id_category</th>\n",
       "      <th>category_name</th>\n",
       "    </tr>\n",
       "  </thead>\n",
       "  <tbody>\n",
       "    <tr>\n",
       "      <th>0</th>\n",
       "      <td>1</td>\n",
       "      <td>Pain Relief</td>\n",
       "    </tr>\n",
       "    <tr>\n",
       "      <th>1</th>\n",
       "      <td>2</td>\n",
       "      <td>Diabetes</td>\n",
       "    </tr>\n",
       "    <tr>\n",
       "      <th>2</th>\n",
       "      <td>3</td>\n",
       "      <td>Heart</td>\n",
       "    </tr>\n",
       "    <tr>\n",
       "      <th>3</th>\n",
       "      <td>4</td>\n",
       "      <td>Antibiotic</td>\n",
       "    </tr>\n",
       "    <tr>\n",
       "      <th>4</th>\n",
       "      <td>5</td>\n",
       "      <td>Common</td>\n",
       "    </tr>\n",
       "  </tbody>\n",
       "</table>\n",
       "</div>"
      ],
      "text/plain": [
       "   id_category category_name\n",
       "0            1   Pain Relief\n",
       "1            2      Diabetes\n",
       "2            3         Heart\n",
       "3            4    Antibiotic\n",
       "4            5        Common"
      ]
     },
     "execution_count": 10,
     "metadata": {},
     "output_type": "execute_result"
    }
   ],
   "source": [
    "dfs[\"categories\"].head()"
   ]
  },
  {
   "cell_type": "markdown",
   "id": "6ce8cc98",
   "metadata": {},
   "source": [
    "## Data Transformation"
   ]
  },
  {
   "cell_type": "code",
   "execution_count": 11,
   "id": "7a9f16f1",
   "metadata": {},
   "outputs": [],
   "source": [
    "today = pd.to_datetime(datetime.now())"
   ]
  },
  {
   "cell_type": "markdown",
   "id": "28d093fc",
   "metadata": {},
   "source": [
    "### Patient-level transformations"
   ]
  },
  {
   "cell_type": "code",
   "execution_count": 12,
   "id": "cb300ff6",
   "metadata": {},
   "outputs": [
    {
     "data": {
      "application/vnd.microsoft.datawrangler.viewer.v0+json": {
       "columns": [
        {
         "name": "index",
         "rawType": "int64",
         "type": "integer"
        },
        {
         "name": "patient_id",
         "rawType": "int64",
         "type": "integer"
        },
        {
         "name": "name",
         "rawType": "object",
         "type": "string"
        },
        {
         "name": "age",
         "rawType": "float64",
         "type": "float"
        },
        {
         "name": "gender",
         "rawType": "object",
         "type": "string"
        },
        {
         "name": "registration_date",
         "rawType": "object",
         "type": "string"
        },
        {
         "name": "Age Group",
         "rawType": "category",
         "type": "unknown"
        }
       ],
       "conversionMethod": "pd.DataFrame",
       "ref": "5132399b-d479-43c0-b171-b9a77a1b9a87",
       "rows": [
        [
         "28",
         "29",
         "Angela Wright",
         "23.0",
         "Female",
         "2023-04-11",
         "19-30"
        ],
        [
         "37",
         "38",
         "Elizabeth Davis",
         "72.0",
         "Female",
         "2023-01-06",
         "71+"
        ],
        [
         "20",
         "21",
         "Emily Johnson",
         "75.0",
         "Female",
         "2024-06-13",
         "71+"
        ],
        [
         "38",
         "39",
         "Courtney Wilkerson",
         "76.0",
         "Female",
         "2022-03-12",
         "71+"
        ],
        [
         "4",
         "5",
         "Stephanie Giles",
         "41.0",
         "Female",
         "2022-08-17",
         "31-50"
        ],
        [
         "13",
         "14",
         "Teresa Clark",
         "56.0",
         "Female",
         "2023-05-11",
         "51-70"
        ],
        [
         "11",
         "12",
         "Mary Hernandez",
         "53.0",
         "Female",
         "2022-04-10",
         "51-70"
        ],
        [
         "9",
         "10",
         "Leonard Lewis",
         "53.0",
         "Male",
         "2023-11-12",
         "51-70"
        ],
        [
         "6",
         "7",
         "Edward Roberts",
         "53.0",
         "Male",
         "2025-01-22",
         "51-70"
        ],
        [
         "17",
         "18",
         "Tina James",
         "46.0",
         "Female",
         "2023-11-04",
         "31-50"
        ]
       ],
       "shape": {
        "columns": 6,
        "rows": 10
       }
      },
      "text/html": [
       "<div>\n",
       "<style scoped>\n",
       "    .dataframe tbody tr th:only-of-type {\n",
       "        vertical-align: middle;\n",
       "    }\n",
       "\n",
       "    .dataframe tbody tr th {\n",
       "        vertical-align: top;\n",
       "    }\n",
       "\n",
       "    .dataframe thead th {\n",
       "        text-align: right;\n",
       "    }\n",
       "</style>\n",
       "<table border=\"1\" class=\"dataframe\">\n",
       "  <thead>\n",
       "    <tr style=\"text-align: right;\">\n",
       "      <th></th>\n",
       "      <th>patient_id</th>\n",
       "      <th>name</th>\n",
       "      <th>age</th>\n",
       "      <th>gender</th>\n",
       "      <th>registration_date</th>\n",
       "      <th>Age Group</th>\n",
       "    </tr>\n",
       "  </thead>\n",
       "  <tbody>\n",
       "    <tr>\n",
       "      <th>28</th>\n",
       "      <td>29</td>\n",
       "      <td>Angela Wright</td>\n",
       "      <td>23.0</td>\n",
       "      <td>Female</td>\n",
       "      <td>2023-04-11</td>\n",
       "      <td>19-30</td>\n",
       "    </tr>\n",
       "    <tr>\n",
       "      <th>37</th>\n",
       "      <td>38</td>\n",
       "      <td>Elizabeth Davis</td>\n",
       "      <td>72.0</td>\n",
       "      <td>Female</td>\n",
       "      <td>2023-01-06</td>\n",
       "      <td>71+</td>\n",
       "    </tr>\n",
       "    <tr>\n",
       "      <th>20</th>\n",
       "      <td>21</td>\n",
       "      <td>Emily Johnson</td>\n",
       "      <td>75.0</td>\n",
       "      <td>Female</td>\n",
       "      <td>2024-06-13</td>\n",
       "      <td>71+</td>\n",
       "    </tr>\n",
       "    <tr>\n",
       "      <th>38</th>\n",
       "      <td>39</td>\n",
       "      <td>Courtney Wilkerson</td>\n",
       "      <td>76.0</td>\n",
       "      <td>Female</td>\n",
       "      <td>2022-03-12</td>\n",
       "      <td>71+</td>\n",
       "    </tr>\n",
       "    <tr>\n",
       "      <th>4</th>\n",
       "      <td>5</td>\n",
       "      <td>Stephanie Giles</td>\n",
       "      <td>41.0</td>\n",
       "      <td>Female</td>\n",
       "      <td>2022-08-17</td>\n",
       "      <td>31-50</td>\n",
       "    </tr>\n",
       "    <tr>\n",
       "      <th>13</th>\n",
       "      <td>14</td>\n",
       "      <td>Teresa Clark</td>\n",
       "      <td>56.0</td>\n",
       "      <td>Female</td>\n",
       "      <td>2023-05-11</td>\n",
       "      <td>51-70</td>\n",
       "    </tr>\n",
       "    <tr>\n",
       "      <th>11</th>\n",
       "      <td>12</td>\n",
       "      <td>Mary Hernandez</td>\n",
       "      <td>53.0</td>\n",
       "      <td>Female</td>\n",
       "      <td>2022-04-10</td>\n",
       "      <td>51-70</td>\n",
       "    </tr>\n",
       "    <tr>\n",
       "      <th>9</th>\n",
       "      <td>10</td>\n",
       "      <td>Leonard Lewis</td>\n",
       "      <td>53.0</td>\n",
       "      <td>Male</td>\n",
       "      <td>2023-11-12</td>\n",
       "      <td>51-70</td>\n",
       "    </tr>\n",
       "    <tr>\n",
       "      <th>6</th>\n",
       "      <td>7</td>\n",
       "      <td>Edward Roberts</td>\n",
       "      <td>53.0</td>\n",
       "      <td>Male</td>\n",
       "      <td>2025-01-22</td>\n",
       "      <td>51-70</td>\n",
       "    </tr>\n",
       "    <tr>\n",
       "      <th>17</th>\n",
       "      <td>18</td>\n",
       "      <td>Tina James</td>\n",
       "      <td>46.0</td>\n",
       "      <td>Female</td>\n",
       "      <td>2023-11-04</td>\n",
       "      <td>31-50</td>\n",
       "    </tr>\n",
       "  </tbody>\n",
       "</table>\n",
       "</div>"
      ],
      "text/plain": [
       "    patient_id                name   age  gender registration_date Age Group\n",
       "28          29       Angela Wright  23.0  Female        2023-04-11     19-30\n",
       "37          38     Elizabeth Davis  72.0  Female        2023-01-06       71+\n",
       "20          21       Emily Johnson  75.0  Female        2024-06-13       71+\n",
       "38          39  Courtney Wilkerson  76.0  Female        2022-03-12       71+\n",
       "4            5     Stephanie Giles  41.0  Female        2022-08-17     31-50\n",
       "13          14        Teresa Clark  56.0  Female        2023-05-11     51-70\n",
       "11          12      Mary Hernandez  53.0  Female        2022-04-10     51-70\n",
       "9           10       Leonard Lewis  53.0    Male        2023-11-12     51-70\n",
       "6            7      Edward Roberts  53.0    Male        2025-01-22     51-70\n",
       "17          18          Tina James  46.0  Female        2023-11-04     31-50"
      ]
     },
     "execution_count": 12,
     "metadata": {},
     "output_type": "execute_result"
    }
   ],
   "source": [
    "# Age group (0-18, 19-30, 31-50, 51-70, 71+)\n",
    "\n",
    "# min_age = int(dfs[\"patients\"][\"age\"].min())\n",
    "max_age = int(dfs[\"patients\"][\"age\"].max())\n",
    "\n",
    "# Define bins and labels\n",
    "bins = [0, 18, 30, 50, 70, max_age]\n",
    "labels = [\"0-18\", \"19-30\", \"31-50\", \"51-70\", \"71+\"]\n",
    "\n",
    "dfs[\"patients\"][\"Age Group\"] = pd.cut(dfs[\"patients\"][\"age\"], bins=bins, labels=labels, right=True)\n",
    "\n",
    "dfs[\"patients\"].sample(10)\n",
    "\n"
   ]
  },
  {
   "cell_type": "code",
   "execution_count": 13,
   "id": "c5d26b73",
   "metadata": {},
   "outputs": [
    {
     "data": {
      "application/vnd.microsoft.datawrangler.viewer.v0+json": {
       "columns": [
        {
         "name": "index",
         "rawType": "int64",
         "type": "integer"
        },
        {
         "name": "patient_id",
         "rawType": "int64",
         "type": "integer"
        },
        {
         "name": "name",
         "rawType": "object",
         "type": "string"
        },
        {
         "name": "age",
         "rawType": "float64",
         "type": "float"
        },
        {
         "name": "gender",
         "rawType": "object",
         "type": "string"
        },
        {
         "name": "registration_date",
         "rawType": "datetime64[ns]",
         "type": "datetime"
        },
        {
         "name": "Age Group",
         "rawType": "category",
         "type": "unknown"
        },
        {
         "name": "Patient type",
         "rawType": "category",
         "type": "unknown"
        }
       ],
       "conversionMethod": "pd.DataFrame",
       "ref": "06c8ed38-b51b-4ec8-b57f-2aacbe9e2bad",
       "rows": [
        [
         "43",
         "44",
         "Virginia Cross",
         "49.0",
         "Female",
         "2023-08-20 00:00:00",
         "31-50",
         "Regular"
        ],
        [
         "13",
         "14",
         "Teresa Clark",
         "56.0",
         "Female",
         "2023-05-11 00:00:00",
         "51-70",
         "Long-term"
        ],
        [
         "41",
         "42",
         "John Hanson",
         "21.0",
         "Male",
         "2023-08-05 00:00:00",
         "19-30",
         "Regular"
        ],
        [
         "52",
         "53",
         "Thomas Brown",
         null,
         "Male",
         "2023-02-10 00:00:00",
         null,
         "Long-term"
        ],
        [
         "32",
         "33",
         "Nicole Taylor",
         "31.0",
         "Female",
         "2020-01-05 00:00:00",
         "31-50",
         null
        ],
        [
         "33",
         "34",
         "Brian Williams",
         "73.0",
         "Male",
         "2021-03-04 00:00:00",
         "71+",
         "Long-term"
        ],
        [
         "21",
         "22",
         "James Keith",
         "49.0",
         "Male",
         "2021-06-20 00:00:00",
         "31-50",
         "Long-term"
        ],
        [
         "11",
         "12",
         "Mary Hernandez",
         "53.0",
         "Female",
         "2022-04-10 00:00:00",
         "51-70",
         "Long-term"
        ],
        [
         "27",
         "28",
         "Michael Palmer",
         "74.0",
         "Male",
         "2020-06-08 00:00:00",
         "71+",
         "Long-term"
        ],
        [
         "53",
         "54",
         "Jennifer Davis",
         null,
         "Female",
         "2023-04-05 00:00:00",
         null,
         "Long-term"
        ]
       ],
       "shape": {
        "columns": 7,
        "rows": 10
       }
      },
      "text/html": [
       "<div>\n",
       "<style scoped>\n",
       "    .dataframe tbody tr th:only-of-type {\n",
       "        vertical-align: middle;\n",
       "    }\n",
       "\n",
       "    .dataframe tbody tr th {\n",
       "        vertical-align: top;\n",
       "    }\n",
       "\n",
       "    .dataframe thead th {\n",
       "        text-align: right;\n",
       "    }\n",
       "</style>\n",
       "<table border=\"1\" class=\"dataframe\">\n",
       "  <thead>\n",
       "    <tr style=\"text-align: right;\">\n",
       "      <th></th>\n",
       "      <th>patient_id</th>\n",
       "      <th>name</th>\n",
       "      <th>age</th>\n",
       "      <th>gender</th>\n",
       "      <th>registration_date</th>\n",
       "      <th>Age Group</th>\n",
       "      <th>Patient type</th>\n",
       "    </tr>\n",
       "  </thead>\n",
       "  <tbody>\n",
       "    <tr>\n",
       "      <th>43</th>\n",
       "      <td>44</td>\n",
       "      <td>Virginia Cross</td>\n",
       "      <td>49.0</td>\n",
       "      <td>Female</td>\n",
       "      <td>2023-08-20</td>\n",
       "      <td>31-50</td>\n",
       "      <td>Regular</td>\n",
       "    </tr>\n",
       "    <tr>\n",
       "      <th>13</th>\n",
       "      <td>14</td>\n",
       "      <td>Teresa Clark</td>\n",
       "      <td>56.0</td>\n",
       "      <td>Female</td>\n",
       "      <td>2023-05-11</td>\n",
       "      <td>51-70</td>\n",
       "      <td>Long-term</td>\n",
       "    </tr>\n",
       "    <tr>\n",
       "      <th>41</th>\n",
       "      <td>42</td>\n",
       "      <td>John Hanson</td>\n",
       "      <td>21.0</td>\n",
       "      <td>Male</td>\n",
       "      <td>2023-08-05</td>\n",
       "      <td>19-30</td>\n",
       "      <td>Regular</td>\n",
       "    </tr>\n",
       "    <tr>\n",
       "      <th>52</th>\n",
       "      <td>53</td>\n",
       "      <td>Thomas Brown</td>\n",
       "      <td>NaN</td>\n",
       "      <td>Male</td>\n",
       "      <td>2023-02-10</td>\n",
       "      <td>NaN</td>\n",
       "      <td>Long-term</td>\n",
       "    </tr>\n",
       "    <tr>\n",
       "      <th>32</th>\n",
       "      <td>33</td>\n",
       "      <td>Nicole Taylor</td>\n",
       "      <td>31.0</td>\n",
       "      <td>Female</td>\n",
       "      <td>2020-01-05</td>\n",
       "      <td>31-50</td>\n",
       "      <td>NaN</td>\n",
       "    </tr>\n",
       "    <tr>\n",
       "      <th>33</th>\n",
       "      <td>34</td>\n",
       "      <td>Brian Williams</td>\n",
       "      <td>73.0</td>\n",
       "      <td>Male</td>\n",
       "      <td>2021-03-04</td>\n",
       "      <td>71+</td>\n",
       "      <td>Long-term</td>\n",
       "    </tr>\n",
       "    <tr>\n",
       "      <th>21</th>\n",
       "      <td>22</td>\n",
       "      <td>James Keith</td>\n",
       "      <td>49.0</td>\n",
       "      <td>Male</td>\n",
       "      <td>2021-06-20</td>\n",
       "      <td>31-50</td>\n",
       "      <td>Long-term</td>\n",
       "    </tr>\n",
       "    <tr>\n",
       "      <th>11</th>\n",
       "      <td>12</td>\n",
       "      <td>Mary Hernandez</td>\n",
       "      <td>53.0</td>\n",
       "      <td>Female</td>\n",
       "      <td>2022-04-10</td>\n",
       "      <td>51-70</td>\n",
       "      <td>Long-term</td>\n",
       "    </tr>\n",
       "    <tr>\n",
       "      <th>27</th>\n",
       "      <td>28</td>\n",
       "      <td>Michael Palmer</td>\n",
       "      <td>74.0</td>\n",
       "      <td>Male</td>\n",
       "      <td>2020-06-08</td>\n",
       "      <td>71+</td>\n",
       "      <td>Long-term</td>\n",
       "    </tr>\n",
       "    <tr>\n",
       "      <th>53</th>\n",
       "      <td>54</td>\n",
       "      <td>Jennifer Davis</td>\n",
       "      <td>NaN</td>\n",
       "      <td>Female</td>\n",
       "      <td>2023-04-05</td>\n",
       "      <td>NaN</td>\n",
       "      <td>Long-term</td>\n",
       "    </tr>\n",
       "  </tbody>\n",
       "</table>\n",
       "</div>"
      ],
      "text/plain": [
       "    patient_id            name   age  gender registration_date Age Group  \\\n",
       "43          44  Virginia Cross  49.0  Female        2023-08-20     31-50   \n",
       "13          14    Teresa Clark  56.0  Female        2023-05-11     51-70   \n",
       "41          42     John Hanson  21.0    Male        2023-08-05     19-30   \n",
       "52          53    Thomas Brown   NaN    Male        2023-02-10       NaN   \n",
       "32          33   Nicole Taylor  31.0  Female        2020-01-05     31-50   \n",
       "33          34  Brian Williams  73.0    Male        2021-03-04       71+   \n",
       "21          22     James Keith  49.0    Male        2021-06-20     31-50   \n",
       "11          12  Mary Hernandez  53.0  Female        2022-04-10     51-70   \n",
       "27          28  Michael Palmer  74.0    Male        2020-06-08       71+   \n",
       "53          54  Jennifer Davis   NaN  Female        2023-04-05       NaN   \n",
       "\n",
       "   Patient type  \n",
       "43      Regular  \n",
       "13    Long-term  \n",
       "41      Regular  \n",
       "52    Long-term  \n",
       "32          NaN  \n",
       "33    Long-term  \n",
       "21    Long-term  \n",
       "11    Long-term  \n",
       "27    Long-term  \n",
       "53    Long-term  "
      ]
     },
     "execution_count": 13,
     "metadata": {},
     "output_type": "execute_result"
    }
   ],
   "source": [
    "# Patient type (New: registered < 6 months, Regular: 6-24 months, Long-term: > 24 months)\n",
    "\n",
    "dfs[\"patients\"][\"registration_date\"] = pd.to_datetime(dfs[\"patients\"][\"registration_date\"])\n",
    "\n",
    "# (current year - registration year) * 12 + (current month - registration mont)\n",
    "dfs[\"patients\"][\"months\"] = (today.year - dfs[\"patients\"][\"registration_date\"].dt.year) * 12 + (today.month - dfs[\"patients\"][\"registration_date\"].dt.month)\n",
    "\n",
    "max_month = int(dfs[\"patients\"][\"months\"].max())\n",
    "\n",
    "# Define bins and labels\n",
    "bins = [0, 6, 24, max_month]\n",
    "labels = [\"New\", \"Regular\", \"Long-term\"]\n",
    "\n",
    "dfs[\"patients\"][\"Patient type\"] = pd.cut(dfs[\"patients\"][\"months\"], bins=bins, labels=labels, right=False)\n",
    "dfs[\"patients\"].drop(columns=[\"months\"], inplace=True)\n",
    "\n",
    "\n",
    "dfs[\"patients\"].sample(10)\n",
    "\n",
    "\n"
   ]
  },
  {
   "cell_type": "markdown",
   "id": "effc43ec",
   "metadata": {},
   "source": [
    "### Appointment-level transformations"
   ]
  },
  {
   "cell_type": "code",
   "execution_count": 14,
   "id": "44291dfe",
   "metadata": {},
   "outputs": [],
   "source": [
    "dfs[\"appointments\"][\"appointment_date\"] = pd.to_datetime(dfs[\"appointments\"][\"appointment_date\"])"
   ]
  },
  {
   "cell_type": "code",
   "execution_count": 15,
   "id": "d29e7f4f",
   "metadata": {},
   "outputs": [
    {
     "data": {
      "application/vnd.microsoft.datawrangler.viewer.v0+json": {
       "columns": [
        {
         "name": "index",
         "rawType": "int64",
         "type": "integer"
        },
        {
         "name": "appointment_id",
         "rawType": "int64",
         "type": "integer"
        },
        {
         "name": "patient_id",
         "rawType": "int64",
         "type": "integer"
        },
        {
         "name": "appointment_date",
         "rawType": "datetime64[ns]",
         "type": "datetime"
        },
        {
         "name": "appointment_type",
         "rawType": "object",
         "type": "string"
        },
        {
         "name": "provider_id",
         "rawType": "int64",
         "type": "integer"
        },
        {
         "name": "Day of week",
         "rawType": "object",
         "type": "string"
        }
       ],
       "conversionMethod": "pd.DataFrame",
       "ref": "cc4fcf4f-ea29-406a-9308-87809ec86aba",
       "rows": [
        [
         "67",
         "68",
         "22",
         "2023-01-13 00:00:00",
         "Checkup",
         "4",
         "Friday"
        ],
        [
         "53",
         "54",
         "37",
         "2023-01-13 00:00:00",
         "Consultation",
         "3",
         "Friday"
        ],
        [
         "99",
         "100",
         "49",
         "2023-04-03 00:00:00",
         "Emergency",
         "9",
         "Monday"
        ],
        [
         "55",
         "56",
         "46",
         "2023-03-23 00:00:00",
         "Consultation",
         "2",
         "Thursday"
        ],
        [
         "57",
         "58",
         "33",
         "2023-04-03 00:00:00",
         "Checkup",
         "9",
         "Monday"
        ],
        [
         "91",
         "92",
         "44",
         "2023-02-24 00:00:00",
         "Emergency",
         "2",
         "Friday"
        ],
        [
         "18",
         "19",
         "20",
         "2023-03-07 00:00:00",
         "Checkup",
         "7",
         "Tuesday"
        ],
        [
         "46",
         "47",
         "17",
         "2023-01-21 00:00:00",
         "Consultation",
         "5",
         "Saturday"
        ],
        [
         "7",
         "8",
         "31",
         "2023-02-16 00:00:00",
         "Checkup",
         "1",
         "Thursday"
        ],
        [
         "83",
         "84",
         "48",
         "2023-01-07 00:00:00",
         "Emergency",
         "8",
         "Saturday"
        ]
       ],
       "shape": {
        "columns": 6,
        "rows": 10
       }
      },
      "text/html": [
       "<div>\n",
       "<style scoped>\n",
       "    .dataframe tbody tr th:only-of-type {\n",
       "        vertical-align: middle;\n",
       "    }\n",
       "\n",
       "    .dataframe tbody tr th {\n",
       "        vertical-align: top;\n",
       "    }\n",
       "\n",
       "    .dataframe thead th {\n",
       "        text-align: right;\n",
       "    }\n",
       "</style>\n",
       "<table border=\"1\" class=\"dataframe\">\n",
       "  <thead>\n",
       "    <tr style=\"text-align: right;\">\n",
       "      <th></th>\n",
       "      <th>appointment_id</th>\n",
       "      <th>patient_id</th>\n",
       "      <th>appointment_date</th>\n",
       "      <th>appointment_type</th>\n",
       "      <th>provider_id</th>\n",
       "      <th>Day of week</th>\n",
       "    </tr>\n",
       "  </thead>\n",
       "  <tbody>\n",
       "    <tr>\n",
       "      <th>67</th>\n",
       "      <td>68</td>\n",
       "      <td>22</td>\n",
       "      <td>2023-01-13</td>\n",
       "      <td>Checkup</td>\n",
       "      <td>4</td>\n",
       "      <td>Friday</td>\n",
       "    </tr>\n",
       "    <tr>\n",
       "      <th>53</th>\n",
       "      <td>54</td>\n",
       "      <td>37</td>\n",
       "      <td>2023-01-13</td>\n",
       "      <td>Consultation</td>\n",
       "      <td>3</td>\n",
       "      <td>Friday</td>\n",
       "    </tr>\n",
       "    <tr>\n",
       "      <th>99</th>\n",
       "      <td>100</td>\n",
       "      <td>49</td>\n",
       "      <td>2023-04-03</td>\n",
       "      <td>Emergency</td>\n",
       "      <td>9</td>\n",
       "      <td>Monday</td>\n",
       "    </tr>\n",
       "    <tr>\n",
       "      <th>55</th>\n",
       "      <td>56</td>\n",
       "      <td>46</td>\n",
       "      <td>2023-03-23</td>\n",
       "      <td>Consultation</td>\n",
       "      <td>2</td>\n",
       "      <td>Thursday</td>\n",
       "    </tr>\n",
       "    <tr>\n",
       "      <th>57</th>\n",
       "      <td>58</td>\n",
       "      <td>33</td>\n",
       "      <td>2023-04-03</td>\n",
       "      <td>Checkup</td>\n",
       "      <td>9</td>\n",
       "      <td>Monday</td>\n",
       "    </tr>\n",
       "    <tr>\n",
       "      <th>91</th>\n",
       "      <td>92</td>\n",
       "      <td>44</td>\n",
       "      <td>2023-02-24</td>\n",
       "      <td>Emergency</td>\n",
       "      <td>2</td>\n",
       "      <td>Friday</td>\n",
       "    </tr>\n",
       "    <tr>\n",
       "      <th>18</th>\n",
       "      <td>19</td>\n",
       "      <td>20</td>\n",
       "      <td>2023-03-07</td>\n",
       "      <td>Checkup</td>\n",
       "      <td>7</td>\n",
       "      <td>Tuesday</td>\n",
       "    </tr>\n",
       "    <tr>\n",
       "      <th>46</th>\n",
       "      <td>47</td>\n",
       "      <td>17</td>\n",
       "      <td>2023-01-21</td>\n",
       "      <td>Consultation</td>\n",
       "      <td>5</td>\n",
       "      <td>Saturday</td>\n",
       "    </tr>\n",
       "    <tr>\n",
       "      <th>7</th>\n",
       "      <td>8</td>\n",
       "      <td>31</td>\n",
       "      <td>2023-02-16</td>\n",
       "      <td>Checkup</td>\n",
       "      <td>1</td>\n",
       "      <td>Thursday</td>\n",
       "    </tr>\n",
       "    <tr>\n",
       "      <th>83</th>\n",
       "      <td>84</td>\n",
       "      <td>48</td>\n",
       "      <td>2023-01-07</td>\n",
       "      <td>Emergency</td>\n",
       "      <td>8</td>\n",
       "      <td>Saturday</td>\n",
       "    </tr>\n",
       "  </tbody>\n",
       "</table>\n",
       "</div>"
      ],
      "text/plain": [
       "    appointment_id  patient_id appointment_date appointment_type  provider_id  \\\n",
       "67              68          22       2023-01-13          Checkup            4   \n",
       "53              54          37       2023-01-13     Consultation            3   \n",
       "99             100          49       2023-04-03        Emergency            9   \n",
       "55              56          46       2023-03-23     Consultation            2   \n",
       "57              58          33       2023-04-03          Checkup            9   \n",
       "91              92          44       2023-02-24        Emergency            2   \n",
       "18              19          20       2023-03-07          Checkup            7   \n",
       "46              47          17       2023-01-21     Consultation            5   \n",
       "7                8          31       2023-02-16          Checkup            1   \n",
       "83              84          48       2023-01-07        Emergency            8   \n",
       "\n",
       "   Day of week  \n",
       "67      Friday  \n",
       "53      Friday  \n",
       "99      Monday  \n",
       "55    Thursday  \n",
       "57      Monday  \n",
       "91      Friday  \n",
       "18     Tuesday  \n",
       "46    Saturday  \n",
       "7     Thursday  \n",
       "83    Saturday  "
      ]
     },
     "execution_count": 15,
     "metadata": {},
     "output_type": "execute_result"
    }
   ],
   "source": [
    "# Day of week (Monday-Sunday)\n",
    "\n",
    "dfs[\"appointments\"][\"Day of week\"] = dfs[\"appointments\"][\"appointment_date\"].dt.day_name()\n",
    "dfs[\"appointments\"].sample(10)"
   ]
  },
  {
   "cell_type": "code",
   "execution_count": 16,
   "id": "31b2f8dc",
   "metadata": {},
   "outputs": [
    {
     "data": {
      "application/vnd.microsoft.datawrangler.viewer.v0+json": {
       "columns": [
        {
         "name": "index",
         "rawType": "int64",
         "type": "integer"
        },
        {
         "name": "appointment_id",
         "rawType": "int64",
         "type": "integer"
        },
        {
         "name": "patient_id",
         "rawType": "int64",
         "type": "integer"
        },
        {
         "name": "appointment_date",
         "rawType": "datetime64[ns]",
         "type": "datetime"
        },
        {
         "name": "appointment_type",
         "rawType": "object",
         "type": "string"
        },
        {
         "name": "provider_id",
         "rawType": "int64",
         "type": "integer"
        },
        {
         "name": "Day of week",
         "rawType": "object",
         "type": "string"
        },
        {
         "name": "days_since_last_appointment",
         "rawType": "int64",
         "type": "integer"
        }
       ],
       "conversionMethod": "pd.DataFrame",
       "ref": "e1b18c55-5759-4bc0-bc32-82c8c55bdf06",
       "rows": [
        [
         "70",
         "71",
         "44",
         "2023-03-12 00:00:00",
         "Emergency",
         "9",
         "Sunday",
         "782"
        ],
        [
         "66",
         "67",
         "27",
         "2023-01-09 00:00:00",
         "Emergency",
         "6",
         "Monday",
         "844"
        ],
        [
         "104",
         "105",
         "55",
         "2022-12-25 00:00:00",
         "Consultation",
         "3",
         "Sunday",
         "859"
        ],
        [
         "1",
         "2",
         "36",
         "2023-03-10 00:00:00",
         "Emergency",
         "7",
         "Friday",
         "784"
        ],
        [
         "72",
         "73",
         "28",
         "2023-04-04 00:00:00",
         "Consultation",
         "9",
         "Tuesday",
         "759"
        ],
        [
         "93",
         "94",
         "2",
         "2023-01-12 00:00:00",
         "Consultation",
         "9",
         "Thursday",
         "841"
        ],
        [
         "62",
         "63",
         "27",
         "2023-03-19 00:00:00",
         "Checkup",
         "5",
         "Sunday",
         "775"
        ],
        [
         "39",
         "40",
         "48",
         "2023-02-16 00:00:00",
         "Emergency",
         "7",
         "Thursday",
         "806"
        ],
        [
         "89",
         "90",
         "43",
         "2023-02-09 00:00:00",
         "Consultation",
         "5",
         "Thursday",
         "813"
        ],
        [
         "82",
         "83",
         "18",
         "2023-01-02 00:00:00",
         "Emergency",
         "1",
         "Monday",
         "851"
        ]
       ],
       "shape": {
        "columns": 7,
        "rows": 10
       }
      },
      "text/html": [
       "<div>\n",
       "<style scoped>\n",
       "    .dataframe tbody tr th:only-of-type {\n",
       "        vertical-align: middle;\n",
       "    }\n",
       "\n",
       "    .dataframe tbody tr th {\n",
       "        vertical-align: top;\n",
       "    }\n",
       "\n",
       "    .dataframe thead th {\n",
       "        text-align: right;\n",
       "    }\n",
       "</style>\n",
       "<table border=\"1\" class=\"dataframe\">\n",
       "  <thead>\n",
       "    <tr style=\"text-align: right;\">\n",
       "      <th></th>\n",
       "      <th>appointment_id</th>\n",
       "      <th>patient_id</th>\n",
       "      <th>appointment_date</th>\n",
       "      <th>appointment_type</th>\n",
       "      <th>provider_id</th>\n",
       "      <th>Day of week</th>\n",
       "      <th>days_since_last_appointment</th>\n",
       "    </tr>\n",
       "  </thead>\n",
       "  <tbody>\n",
       "    <tr>\n",
       "      <th>70</th>\n",
       "      <td>71</td>\n",
       "      <td>44</td>\n",
       "      <td>2023-03-12</td>\n",
       "      <td>Emergency</td>\n",
       "      <td>9</td>\n",
       "      <td>Sunday</td>\n",
       "      <td>782</td>\n",
       "    </tr>\n",
       "    <tr>\n",
       "      <th>66</th>\n",
       "      <td>67</td>\n",
       "      <td>27</td>\n",
       "      <td>2023-01-09</td>\n",
       "      <td>Emergency</td>\n",
       "      <td>6</td>\n",
       "      <td>Monday</td>\n",
       "      <td>844</td>\n",
       "    </tr>\n",
       "    <tr>\n",
       "      <th>104</th>\n",
       "      <td>105</td>\n",
       "      <td>55</td>\n",
       "      <td>2022-12-25</td>\n",
       "      <td>Consultation</td>\n",
       "      <td>3</td>\n",
       "      <td>Sunday</td>\n",
       "      <td>859</td>\n",
       "    </tr>\n",
       "    <tr>\n",
       "      <th>1</th>\n",
       "      <td>2</td>\n",
       "      <td>36</td>\n",
       "      <td>2023-03-10</td>\n",
       "      <td>Emergency</td>\n",
       "      <td>7</td>\n",
       "      <td>Friday</td>\n",
       "      <td>784</td>\n",
       "    </tr>\n",
       "    <tr>\n",
       "      <th>72</th>\n",
       "      <td>73</td>\n",
       "      <td>28</td>\n",
       "      <td>2023-04-04</td>\n",
       "      <td>Consultation</td>\n",
       "      <td>9</td>\n",
       "      <td>Tuesday</td>\n",
       "      <td>759</td>\n",
       "    </tr>\n",
       "    <tr>\n",
       "      <th>93</th>\n",
       "      <td>94</td>\n",
       "      <td>2</td>\n",
       "      <td>2023-01-12</td>\n",
       "      <td>Consultation</td>\n",
       "      <td>9</td>\n",
       "      <td>Thursday</td>\n",
       "      <td>841</td>\n",
       "    </tr>\n",
       "    <tr>\n",
       "      <th>62</th>\n",
       "      <td>63</td>\n",
       "      <td>27</td>\n",
       "      <td>2023-03-19</td>\n",
       "      <td>Checkup</td>\n",
       "      <td>5</td>\n",
       "      <td>Sunday</td>\n",
       "      <td>775</td>\n",
       "    </tr>\n",
       "    <tr>\n",
       "      <th>39</th>\n",
       "      <td>40</td>\n",
       "      <td>48</td>\n",
       "      <td>2023-02-16</td>\n",
       "      <td>Emergency</td>\n",
       "      <td>7</td>\n",
       "      <td>Thursday</td>\n",
       "      <td>806</td>\n",
       "    </tr>\n",
       "    <tr>\n",
       "      <th>89</th>\n",
       "      <td>90</td>\n",
       "      <td>43</td>\n",
       "      <td>2023-02-09</td>\n",
       "      <td>Consultation</td>\n",
       "      <td>5</td>\n",
       "      <td>Thursday</td>\n",
       "      <td>813</td>\n",
       "    </tr>\n",
       "    <tr>\n",
       "      <th>82</th>\n",
       "      <td>83</td>\n",
       "      <td>18</td>\n",
       "      <td>2023-01-02</td>\n",
       "      <td>Emergency</td>\n",
       "      <td>1</td>\n",
       "      <td>Monday</td>\n",
       "      <td>851</td>\n",
       "    </tr>\n",
       "  </tbody>\n",
       "</table>\n",
       "</div>"
      ],
      "text/plain": [
       "     appointment_id  patient_id appointment_date appointment_type  \\\n",
       "70               71          44       2023-03-12        Emergency   \n",
       "66               67          27       2023-01-09        Emergency   \n",
       "104             105          55       2022-12-25     Consultation   \n",
       "1                 2          36       2023-03-10        Emergency   \n",
       "72               73          28       2023-04-04     Consultation   \n",
       "93               94           2       2023-01-12     Consultation   \n",
       "62               63          27       2023-03-19          Checkup   \n",
       "39               40          48       2023-02-16        Emergency   \n",
       "89               90          43       2023-02-09     Consultation   \n",
       "82               83          18       2023-01-02        Emergency   \n",
       "\n",
       "     provider_id Day of week  days_since_last_appointment  \n",
       "70             9      Sunday                          782  \n",
       "66             6      Monday                          844  \n",
       "104            3      Sunday                          859  \n",
       "1              7      Friday                          784  \n",
       "72             9     Tuesday                          759  \n",
       "93             9    Thursday                          841  \n",
       "62             5      Sunday                          775  \n",
       "39             7    Thursday                          806  \n",
       "89             5    Thursday                          813  \n",
       "82             1      Monday                          851  "
      ]
     },
     "execution_count": 16,
     "metadata": {},
     "output_type": "execute_result"
    }
   ],
   "source": [
    "# Time since last appointment (in days)\n",
    "dfs[\"appointments\"][\"days_since_last_appointment\"] = (today - dfs[\"appointments\"][\"appointment_date\"]).dt.days\n",
    "dfs[\"appointments\"].sample(10)"
   ]
  },
  {
   "cell_type": "markdown",
   "id": "b692588e",
   "metadata": {},
   "source": [
    "### Prescription-level transformations"
   ]
  },
  {
   "cell_type": "code",
   "execution_count": 17,
   "id": "ef920d60",
   "metadata": {},
   "outputs": [
    {
     "data": {
      "application/vnd.microsoft.datawrangler.viewer.v0+json": {
       "columns": [
        {
         "name": "index",
         "rawType": "int64",
         "type": "integer"
        },
        {
         "name": "prescription_id",
         "rawType": "int64",
         "type": "integer"
        },
        {
         "name": "patient_id",
         "rawType": "int64",
         "type": "integer"
        },
        {
         "name": "medication_name",
         "rawType": "object",
         "type": "string"
        },
        {
         "name": "prescription_date",
         "rawType": "object",
         "type": "string"
        },
        {
         "name": "id_category",
         "rawType": "int64",
         "type": "integer"
        },
        {
         "name": "category_name",
         "rawType": "object",
         "type": "string"
        }
       ],
       "conversionMethod": "pd.DataFrame",
       "ref": "91c81ec2-4083-46f8-b5d1-6754db4dfcb8",
       "rows": [
        [
         "87",
         "88",
         "26",
         "Metformin",
         "2023-01-31",
         "2",
         "Diabetes"
        ],
        [
         "1",
         "2",
         "8",
         "Metformin",
         "2023-01-24",
         "2",
         "Diabetes"
        ],
        [
         "126",
         "127",
         "22",
         "Aspirin",
         "2023-04-03",
         "5",
         "Common"
        ],
        [
         "7",
         "8",
         "36",
         "Aspirin",
         "2023-04-07",
         "5",
         "Common"
        ],
        [
         "3",
         "4",
         "23",
         "Atorvastatin",
         "2023-01-14",
         "3",
         "Heart"
        ],
        [
         "34",
         "35",
         "30",
         "Lisinopril",
         "2023-04-03",
         "3",
         "Heart"
        ],
        [
         "29",
         "30",
         "40",
         "Aspirin",
         "2023-01-20",
         "5",
         "Common"
        ],
        [
         "12",
         "13",
         "2",
         "Ibuprofen",
         "2023-01-15",
         "1",
         "Pain Relief"
        ],
        [
         "78",
         "79",
         "17",
         "Ibuprofen",
         "2023-03-31",
         "1",
         "Pain Relief"
        ],
        [
         "124",
         "125",
         "15",
         "Ibuprofen",
         "2023-04-08",
         "1",
         "Pain Relief"
        ]
       ],
       "shape": {
        "columns": 6,
        "rows": 10
       }
      },
      "text/html": [
       "<div>\n",
       "<style scoped>\n",
       "    .dataframe tbody tr th:only-of-type {\n",
       "        vertical-align: middle;\n",
       "    }\n",
       "\n",
       "    .dataframe tbody tr th {\n",
       "        vertical-align: top;\n",
       "    }\n",
       "\n",
       "    .dataframe thead th {\n",
       "        text-align: right;\n",
       "    }\n",
       "</style>\n",
       "<table border=\"1\" class=\"dataframe\">\n",
       "  <thead>\n",
       "    <tr style=\"text-align: right;\">\n",
       "      <th></th>\n",
       "      <th>prescription_id</th>\n",
       "      <th>patient_id</th>\n",
       "      <th>medication_name</th>\n",
       "      <th>prescription_date</th>\n",
       "      <th>id_category</th>\n",
       "      <th>category_name</th>\n",
       "    </tr>\n",
       "  </thead>\n",
       "  <tbody>\n",
       "    <tr>\n",
       "      <th>87</th>\n",
       "      <td>88</td>\n",
       "      <td>26</td>\n",
       "      <td>Metformin</td>\n",
       "      <td>2023-01-31</td>\n",
       "      <td>2</td>\n",
       "      <td>Diabetes</td>\n",
       "    </tr>\n",
       "    <tr>\n",
       "      <th>1</th>\n",
       "      <td>2</td>\n",
       "      <td>8</td>\n",
       "      <td>Metformin</td>\n",
       "      <td>2023-01-24</td>\n",
       "      <td>2</td>\n",
       "      <td>Diabetes</td>\n",
       "    </tr>\n",
       "    <tr>\n",
       "      <th>126</th>\n",
       "      <td>127</td>\n",
       "      <td>22</td>\n",
       "      <td>Aspirin</td>\n",
       "      <td>2023-04-03</td>\n",
       "      <td>5</td>\n",
       "      <td>Common</td>\n",
       "    </tr>\n",
       "    <tr>\n",
       "      <th>7</th>\n",
       "      <td>8</td>\n",
       "      <td>36</td>\n",
       "      <td>Aspirin</td>\n",
       "      <td>2023-04-07</td>\n",
       "      <td>5</td>\n",
       "      <td>Common</td>\n",
       "    </tr>\n",
       "    <tr>\n",
       "      <th>3</th>\n",
       "      <td>4</td>\n",
       "      <td>23</td>\n",
       "      <td>Atorvastatin</td>\n",
       "      <td>2023-01-14</td>\n",
       "      <td>3</td>\n",
       "      <td>Heart</td>\n",
       "    </tr>\n",
       "    <tr>\n",
       "      <th>34</th>\n",
       "      <td>35</td>\n",
       "      <td>30</td>\n",
       "      <td>Lisinopril</td>\n",
       "      <td>2023-04-03</td>\n",
       "      <td>3</td>\n",
       "      <td>Heart</td>\n",
       "    </tr>\n",
       "    <tr>\n",
       "      <th>29</th>\n",
       "      <td>30</td>\n",
       "      <td>40</td>\n",
       "      <td>Aspirin</td>\n",
       "      <td>2023-01-20</td>\n",
       "      <td>5</td>\n",
       "      <td>Common</td>\n",
       "    </tr>\n",
       "    <tr>\n",
       "      <th>12</th>\n",
       "      <td>13</td>\n",
       "      <td>2</td>\n",
       "      <td>Ibuprofen</td>\n",
       "      <td>2023-01-15</td>\n",
       "      <td>1</td>\n",
       "      <td>Pain Relief</td>\n",
       "    </tr>\n",
       "    <tr>\n",
       "      <th>78</th>\n",
       "      <td>79</td>\n",
       "      <td>17</td>\n",
       "      <td>Ibuprofen</td>\n",
       "      <td>2023-03-31</td>\n",
       "      <td>1</td>\n",
       "      <td>Pain Relief</td>\n",
       "    </tr>\n",
       "    <tr>\n",
       "      <th>124</th>\n",
       "      <td>125</td>\n",
       "      <td>15</td>\n",
       "      <td>Ibuprofen</td>\n",
       "      <td>2023-04-08</td>\n",
       "      <td>1</td>\n",
       "      <td>Pain Relief</td>\n",
       "    </tr>\n",
       "  </tbody>\n",
       "</table>\n",
       "</div>"
      ],
      "text/plain": [
       "     prescription_id  patient_id medication_name prescription_date  \\\n",
       "87                88          26       Metformin        2023-01-31   \n",
       "1                  2           8       Metformin        2023-01-24   \n",
       "126              127          22         Aspirin        2023-04-03   \n",
       "7                  8          36         Aspirin        2023-04-07   \n",
       "3                  4          23    Atorvastatin        2023-01-14   \n",
       "34                35          30      Lisinopril        2023-04-03   \n",
       "29                30          40         Aspirin        2023-01-20   \n",
       "12                13           2       Ibuprofen        2023-01-15   \n",
       "78                79          17       Ibuprofen        2023-03-31   \n",
       "124              125          15       Ibuprofen        2023-04-08   \n",
       "\n",
       "     id_category category_name  \n",
       "87             2      Diabetes  \n",
       "1              2      Diabetes  \n",
       "126            5        Common  \n",
       "7              5        Common  \n",
       "3              3         Heart  \n",
       "34             3         Heart  \n",
       "29             5        Common  \n",
       "12             1   Pain Relief  \n",
       "78             1   Pain Relief  \n",
       "124            1   Pain Relief  "
      ]
     },
     "execution_count": 17,
     "metadata": {},
     "output_type": "execute_result"
    }
   ],
   "source": [
    "# Medication category (e.g., Pain Relief, Diabetes, Heart, etc.)\n",
    "dfs[\"prescriptions\"] = dfs[\"prescriptions\"].merge(dfs[\"categories\"], on=\"id_category\", how=\"inner\")\n",
    "dfs[\"prescriptions\"].sample(10)"
   ]
  },
  {
   "cell_type": "code",
   "execution_count": 18,
   "id": "30e6b569",
   "metadata": {},
   "outputs": [
    {
     "data": {
      "application/vnd.microsoft.datawrangler.viewer.v0+json": {
       "columns": [
        {
         "name": "index",
         "rawType": "int64",
         "type": "integer"
        },
        {
         "name": "prescription_id",
         "rawType": "int64",
         "type": "integer"
        },
        {
         "name": "patient_id",
         "rawType": "int64",
         "type": "integer"
        },
        {
         "name": "medication_name",
         "rawType": "object",
         "type": "string"
        },
        {
         "name": "prescription_date",
         "rawType": "object",
         "type": "string"
        },
        {
         "name": "id_category",
         "rawType": "int64",
         "type": "integer"
        },
        {
         "name": "category_name",
         "rawType": "object",
         "type": "string"
        },
        {
         "name": "Prescription frequency",
         "rawType": "object",
         "type": "string"
        }
       ],
       "conversionMethod": "pd.DataFrame",
       "ref": "7872e101-2794-44b3-b34c-a441895ff1f3",
       "rows": [
        [
         "28",
         "29",
         "22",
         "Aspirin",
         "2023-04-02",
         "5",
         "Common",
         "Repeat"
        ],
        [
         "125",
         "126",
         "15",
         "Ibuprofen",
         "2023-04-09",
         "1",
         "Pain Relief",
         "Repeat"
        ],
        [
         "90",
         "91",
         "12",
         "Amoxicillin",
         "2023-04-05",
         "4",
         "Antibiotic",
         "Repeat"
        ],
        [
         "42",
         "43",
         "49",
         "Atorvastatin",
         "2023-01-13",
         "3",
         "Heart",
         "Repeat"
        ],
        [
         "98",
         "99",
         "10",
         "Aspirin",
         "2023-02-11",
         "5",
         "Common",
         "Repeat"
        ],
        [
         "84",
         "85",
         "8",
         "Ibuprofen",
         "2023-02-10",
         "1",
         "Pain Relief",
         "Repeat"
        ],
        [
         "78",
         "79",
         "17",
         "Ibuprofen",
         "2023-03-31",
         "1",
         "Pain Relief",
         "First-time"
        ],
        [
         "68",
         "69",
         "8",
         "Atorvastatin",
         "2023-01-24",
         "3",
         "Heart",
         "Repeat"
        ],
        [
         "15",
         "16",
         "44",
         "Atorvastatin",
         "2023-02-24",
         "3",
         "Heart",
         "First-time"
        ],
        [
         "118",
         "119",
         "8",
         "Ibuprofen",
         "2023-02-14",
         "1",
         "Pain Relief",
         "Repeat"
        ]
       ],
       "shape": {
        "columns": 7,
        "rows": 10
       }
      },
      "text/html": [
       "<div>\n",
       "<style scoped>\n",
       "    .dataframe tbody tr th:only-of-type {\n",
       "        vertical-align: middle;\n",
       "    }\n",
       "\n",
       "    .dataframe tbody tr th {\n",
       "        vertical-align: top;\n",
       "    }\n",
       "\n",
       "    .dataframe thead th {\n",
       "        text-align: right;\n",
       "    }\n",
       "</style>\n",
       "<table border=\"1\" class=\"dataframe\">\n",
       "  <thead>\n",
       "    <tr style=\"text-align: right;\">\n",
       "      <th></th>\n",
       "      <th>prescription_id</th>\n",
       "      <th>patient_id</th>\n",
       "      <th>medication_name</th>\n",
       "      <th>prescription_date</th>\n",
       "      <th>id_category</th>\n",
       "      <th>category_name</th>\n",
       "      <th>Prescription frequency</th>\n",
       "    </tr>\n",
       "  </thead>\n",
       "  <tbody>\n",
       "    <tr>\n",
       "      <th>28</th>\n",
       "      <td>29</td>\n",
       "      <td>22</td>\n",
       "      <td>Aspirin</td>\n",
       "      <td>2023-04-02</td>\n",
       "      <td>5</td>\n",
       "      <td>Common</td>\n",
       "      <td>Repeat</td>\n",
       "    </tr>\n",
       "    <tr>\n",
       "      <th>125</th>\n",
       "      <td>126</td>\n",
       "      <td>15</td>\n",
       "      <td>Ibuprofen</td>\n",
       "      <td>2023-04-09</td>\n",
       "      <td>1</td>\n",
       "      <td>Pain Relief</td>\n",
       "      <td>Repeat</td>\n",
       "    </tr>\n",
       "    <tr>\n",
       "      <th>90</th>\n",
       "      <td>91</td>\n",
       "      <td>12</td>\n",
       "      <td>Amoxicillin</td>\n",
       "      <td>2023-04-05</td>\n",
       "      <td>4</td>\n",
       "      <td>Antibiotic</td>\n",
       "      <td>Repeat</td>\n",
       "    </tr>\n",
       "    <tr>\n",
       "      <th>42</th>\n",
       "      <td>43</td>\n",
       "      <td>49</td>\n",
       "      <td>Atorvastatin</td>\n",
       "      <td>2023-01-13</td>\n",
       "      <td>3</td>\n",
       "      <td>Heart</td>\n",
       "      <td>Repeat</td>\n",
       "    </tr>\n",
       "    <tr>\n",
       "      <th>98</th>\n",
       "      <td>99</td>\n",
       "      <td>10</td>\n",
       "      <td>Aspirin</td>\n",
       "      <td>2023-02-11</td>\n",
       "      <td>5</td>\n",
       "      <td>Common</td>\n",
       "      <td>Repeat</td>\n",
       "    </tr>\n",
       "    <tr>\n",
       "      <th>84</th>\n",
       "      <td>85</td>\n",
       "      <td>8</td>\n",
       "      <td>Ibuprofen</td>\n",
       "      <td>2023-02-10</td>\n",
       "      <td>1</td>\n",
       "      <td>Pain Relief</td>\n",
       "      <td>Repeat</td>\n",
       "    </tr>\n",
       "    <tr>\n",
       "      <th>78</th>\n",
       "      <td>79</td>\n",
       "      <td>17</td>\n",
       "      <td>Ibuprofen</td>\n",
       "      <td>2023-03-31</td>\n",
       "      <td>1</td>\n",
       "      <td>Pain Relief</td>\n",
       "      <td>First-time</td>\n",
       "    </tr>\n",
       "    <tr>\n",
       "      <th>68</th>\n",
       "      <td>69</td>\n",
       "      <td>8</td>\n",
       "      <td>Atorvastatin</td>\n",
       "      <td>2023-01-24</td>\n",
       "      <td>3</td>\n",
       "      <td>Heart</td>\n",
       "      <td>Repeat</td>\n",
       "    </tr>\n",
       "    <tr>\n",
       "      <th>15</th>\n",
       "      <td>16</td>\n",
       "      <td>44</td>\n",
       "      <td>Atorvastatin</td>\n",
       "      <td>2023-02-24</td>\n",
       "      <td>3</td>\n",
       "      <td>Heart</td>\n",
       "      <td>First-time</td>\n",
       "    </tr>\n",
       "    <tr>\n",
       "      <th>118</th>\n",
       "      <td>119</td>\n",
       "      <td>8</td>\n",
       "      <td>Ibuprofen</td>\n",
       "      <td>2023-02-14</td>\n",
       "      <td>1</td>\n",
       "      <td>Pain Relief</td>\n",
       "      <td>Repeat</td>\n",
       "    </tr>\n",
       "  </tbody>\n",
       "</table>\n",
       "</div>"
      ],
      "text/plain": [
       "     prescription_id  patient_id medication_name prescription_date  \\\n",
       "28                29          22         Aspirin        2023-04-02   \n",
       "125              126          15       Ibuprofen        2023-04-09   \n",
       "90                91          12     Amoxicillin        2023-04-05   \n",
       "42                43          49    Atorvastatin        2023-01-13   \n",
       "98                99          10         Aspirin        2023-02-11   \n",
       "84                85           8       Ibuprofen        2023-02-10   \n",
       "78                79          17       Ibuprofen        2023-03-31   \n",
       "68                69           8    Atorvastatin        2023-01-24   \n",
       "15                16          44    Atorvastatin        2023-02-24   \n",
       "118              119           8       Ibuprofen        2023-02-14   \n",
       "\n",
       "     id_category category_name Prescription frequency  \n",
       "28             5        Common                 Repeat  \n",
       "125            1   Pain Relief                 Repeat  \n",
       "90             4    Antibiotic                 Repeat  \n",
       "42             3         Heart                 Repeat  \n",
       "98             5        Common                 Repeat  \n",
       "84             1   Pain Relief                 Repeat  \n",
       "78             1   Pain Relief             First-time  \n",
       "68             3         Heart                 Repeat  \n",
       "15             3         Heart             First-time  \n",
       "118            1   Pain Relief                 Repeat  "
      ]
     },
     "execution_count": 18,
     "metadata": {},
     "output_type": "execute_result"
    }
   ],
   "source": [
    "# Prescription frequency (First-time, Repeat)\n",
    "dfs[\"prescriptions\"][\"Prescription frequency\"] = dfs[\"prescriptions\"][\"patient_id\"].duplicated(keep=\"first\").map({False: \"First-time\", True: \"Repeat\"})\n",
    "dfs[\"prescriptions\"].sample(10)"
   ]
  },
  {
   "cell_type": "markdown",
   "id": "8359b529",
   "metadata": {},
   "source": [
    "## Data Analysis"
   ]
  },
  {
   "cell_type": "code",
   "execution_count": 19,
   "id": "77940588",
   "metadata": {},
   "outputs": [
    {
     "data": {
      "application/vnd.microsoft.datawrangler.viewer.v0+json": {
       "columns": [
        {
         "name": "index",
         "rawType": "int64",
         "type": "integer"
        },
        {
         "name": "patient_id",
         "rawType": "int64",
         "type": "integer"
        },
        {
         "name": "name",
         "rawType": "object",
         "type": "string"
        },
        {
         "name": "age",
         "rawType": "float64",
         "type": "float"
        },
        {
         "name": "gender",
         "rawType": "object",
         "type": "string"
        },
        {
         "name": "registration_date",
         "rawType": "datetime64[ns]",
         "type": "datetime"
        },
        {
         "name": "Age Group",
         "rawType": "category",
         "type": "unknown"
        },
        {
         "name": "Patient type",
         "rawType": "category",
         "type": "unknown"
        },
        {
         "name": "appointment_id",
         "rawType": "float64",
         "type": "float"
        },
        {
         "name": "appointment_date",
         "rawType": "datetime64[ns]",
         "type": "datetime"
        },
        {
         "name": "appointment_type",
         "rawType": "object",
         "type": "string"
        },
        {
         "name": "provider_id",
         "rawType": "float64",
         "type": "float"
        },
        {
         "name": "Day of week",
         "rawType": "object",
         "type": "string"
        },
        {
         "name": "days_since_last_appointment",
         "rawType": "float64",
         "type": "float"
        }
       ],
       "conversionMethod": "pd.DataFrame",
       "ref": "8c1f6db4-1fd9-4ca2-be33-d4a7224d0243",
       "rows": [
        [
         "21",
         "12",
         "Mary Hernandez",
         "53.0",
         "Female",
         "2022-04-10 00:00:00",
         "51-70",
         "Long-term",
         "91.0",
         "2023-03-25 00:00:00",
         "Checkup",
         "6.0",
         "Saturday",
         "769.0"
        ],
        [
         "20",
         "11",
         "Christine Sparks",
         "39.0",
         "Female",
         "2024-06-29 00:00:00",
         "31-50",
         "Regular",
         "98.0",
         "2023-04-06 00:00:00",
         "Consultation",
         "9.0",
         "Thursday",
         "757.0"
        ],
        [
         "86",
         "44",
         "Virginia Cross",
         "49.0",
         "Female",
         "2023-08-20 00:00:00",
         "31-50",
         "Regular",
         "27.0",
         "2023-02-04 00:00:00",
         "Checkup",
         "1.0",
         "Saturday",
         "818.0"
        ],
        [
         "12",
         "7",
         "Edward Roberts",
         "53.0",
         "Male",
         "2025-01-22 00:00:00",
         "51-70",
         "New",
         "96.0",
         "2023-01-16 00:00:00",
         "Consultation",
         "8.0",
         "Monday",
         "837.0"
        ],
        [
         "70",
         "36",
         "Colin Sanders",
         "40.0",
         "Male",
         "2024-03-25 00:00:00",
         "31-50",
         "Regular",
         "2.0",
         "2023-03-10 00:00:00",
         "Emergency",
         "7.0",
         "Friday",
         "784.0"
        ]
       ],
       "shape": {
        "columns": 13,
        "rows": 5
       }
      },
      "text/html": [
       "<div>\n",
       "<style scoped>\n",
       "    .dataframe tbody tr th:only-of-type {\n",
       "        vertical-align: middle;\n",
       "    }\n",
       "\n",
       "    .dataframe tbody tr th {\n",
       "        vertical-align: top;\n",
       "    }\n",
       "\n",
       "    .dataframe thead th {\n",
       "        text-align: right;\n",
       "    }\n",
       "</style>\n",
       "<table border=\"1\" class=\"dataframe\">\n",
       "  <thead>\n",
       "    <tr style=\"text-align: right;\">\n",
       "      <th></th>\n",
       "      <th>patient_id</th>\n",
       "      <th>name</th>\n",
       "      <th>age</th>\n",
       "      <th>gender</th>\n",
       "      <th>registration_date</th>\n",
       "      <th>Age Group</th>\n",
       "      <th>Patient type</th>\n",
       "      <th>appointment_id</th>\n",
       "      <th>appointment_date</th>\n",
       "      <th>appointment_type</th>\n",
       "      <th>provider_id</th>\n",
       "      <th>Day of week</th>\n",
       "      <th>days_since_last_appointment</th>\n",
       "    </tr>\n",
       "  </thead>\n",
       "  <tbody>\n",
       "    <tr>\n",
       "      <th>21</th>\n",
       "      <td>12</td>\n",
       "      <td>Mary Hernandez</td>\n",
       "      <td>53.0</td>\n",
       "      <td>Female</td>\n",
       "      <td>2022-04-10</td>\n",
       "      <td>51-70</td>\n",
       "      <td>Long-term</td>\n",
       "      <td>91.0</td>\n",
       "      <td>2023-03-25</td>\n",
       "      <td>Checkup</td>\n",
       "      <td>6.0</td>\n",
       "      <td>Saturday</td>\n",
       "      <td>769.0</td>\n",
       "    </tr>\n",
       "    <tr>\n",
       "      <th>20</th>\n",
       "      <td>11</td>\n",
       "      <td>Christine Sparks</td>\n",
       "      <td>39.0</td>\n",
       "      <td>Female</td>\n",
       "      <td>2024-06-29</td>\n",
       "      <td>31-50</td>\n",
       "      <td>Regular</td>\n",
       "      <td>98.0</td>\n",
       "      <td>2023-04-06</td>\n",
       "      <td>Consultation</td>\n",
       "      <td>9.0</td>\n",
       "      <td>Thursday</td>\n",
       "      <td>757.0</td>\n",
       "    </tr>\n",
       "    <tr>\n",
       "      <th>86</th>\n",
       "      <td>44</td>\n",
       "      <td>Virginia Cross</td>\n",
       "      <td>49.0</td>\n",
       "      <td>Female</td>\n",
       "      <td>2023-08-20</td>\n",
       "      <td>31-50</td>\n",
       "      <td>Regular</td>\n",
       "      <td>27.0</td>\n",
       "      <td>2023-02-04</td>\n",
       "      <td>Checkup</td>\n",
       "      <td>1.0</td>\n",
       "      <td>Saturday</td>\n",
       "      <td>818.0</td>\n",
       "    </tr>\n",
       "    <tr>\n",
       "      <th>12</th>\n",
       "      <td>7</td>\n",
       "      <td>Edward Roberts</td>\n",
       "      <td>53.0</td>\n",
       "      <td>Male</td>\n",
       "      <td>2025-01-22</td>\n",
       "      <td>51-70</td>\n",
       "      <td>New</td>\n",
       "      <td>96.0</td>\n",
       "      <td>2023-01-16</td>\n",
       "      <td>Consultation</td>\n",
       "      <td>8.0</td>\n",
       "      <td>Monday</td>\n",
       "      <td>837.0</td>\n",
       "    </tr>\n",
       "    <tr>\n",
       "      <th>70</th>\n",
       "      <td>36</td>\n",
       "      <td>Colin Sanders</td>\n",
       "      <td>40.0</td>\n",
       "      <td>Male</td>\n",
       "      <td>2024-03-25</td>\n",
       "      <td>31-50</td>\n",
       "      <td>Regular</td>\n",
       "      <td>2.0</td>\n",
       "      <td>2023-03-10</td>\n",
       "      <td>Emergency</td>\n",
       "      <td>7.0</td>\n",
       "      <td>Friday</td>\n",
       "      <td>784.0</td>\n",
       "    </tr>\n",
       "  </tbody>\n",
       "</table>\n",
       "</div>"
      ],
      "text/plain": [
       "    patient_id              name   age  gender registration_date Age Group  \\\n",
       "21          12    Mary Hernandez  53.0  Female        2022-04-10     51-70   \n",
       "20          11  Christine Sparks  39.0  Female        2024-06-29     31-50   \n",
       "86          44    Virginia Cross  49.0  Female        2023-08-20     31-50   \n",
       "12           7    Edward Roberts  53.0    Male        2025-01-22     51-70   \n",
       "70          36     Colin Sanders  40.0    Male        2024-03-25     31-50   \n",
       "\n",
       "   Patient type  appointment_id appointment_date appointment_type  \\\n",
       "21    Long-term            91.0       2023-03-25          Checkup   \n",
       "20      Regular            98.0       2023-04-06     Consultation   \n",
       "86      Regular            27.0       2023-02-04          Checkup   \n",
       "12          New            96.0       2023-01-16     Consultation   \n",
       "70      Regular             2.0       2023-03-10        Emergency   \n",
       "\n",
       "    provider_id Day of week  days_since_last_appointment  \n",
       "21          6.0    Saturday                        769.0  \n",
       "20          9.0    Thursday                        757.0  \n",
       "86          1.0    Saturday                        818.0  \n",
       "12          8.0      Monday                        837.0  \n",
       "70          7.0      Friday                        784.0  "
      ]
     },
     "execution_count": 19,
     "metadata": {},
     "output_type": "execute_result"
    }
   ],
   "source": [
    "df_patients_appointments = dfs[\"patients\"].merge(dfs[\"appointments\"], on=\"patient_id\", how=\"left\")\n",
    "df_patients_appointments.sample(5)"
   ]
  },
  {
   "cell_type": "markdown",
   "id": "5a90d925",
   "metadata": {},
   "source": [
    "### Patient Analysis"
   ]
  },
  {
   "cell_type": "code",
   "execution_count": 20,
   "id": "46edfacb",
   "metadata": {},
   "outputs": [
    {
     "data": {
      "image/png": "[encoded data removed]",
      "text/plain": [
       "<Figure size 1000x600 with 1 Axes>"
      ]
     },
     "metadata": {},
     "output_type": "display_data"
    }
   ],
   "source": [
    "# What is the distribution of patients across age groups?\n",
    "plt.figure(figsize=(10,6))\n",
    "sns.countplot(data=dfs[\"patients\"] , x=\"Age Group\")\n",
    "\n",
    "plt.title(\"Distribution of Patients Across Age Groups\")\n",
    "plt.xlabel(\"Age Group\")\n",
    "plt.ylabel(\"Number of Patients\")\n",
    "plt.xticks(rotation=45)\n",
    "plt.grid(axis=\"y\", linestyle=\"--\", alpha=0.7)\n",
    "plt.tight_layout()\n",
    "plt.show()"
   ]
  },
  {
   "cell_type": "code",
   "execution_count": 35,
   "id": "8b7036ee",
   "metadata": {},
   "outputs": [
    {
     "data": {
      "application/vnd.microsoft.datawrangler.viewer.v0+json": {
       "columns": [
        {
         "name": "index",
         "rawType": "int64",
         "type": "integer"
        },
        {
         "name": "Patient type",
         "rawType": "category",
         "type": "unknown"
        },
        {
         "name": "patient_id",
         "rawType": "int64",
         "type": "integer"
        },
        {
         "name": "appointment_count",
         "rawType": "int64",
         "type": "integer"
        }
       ],
       "conversionMethod": "pd.DataFrame",
       "ref": "0a0985fb-8840-4ebf-bd2a-04dfd33b58fd",
       "rows": [
        [
         "150",
         "Long-term",
         "41",
         "1"
        ],
        [
         "117",
         "Long-term",
         "8",
         "3"
        ],
        [
         "6",
         "New",
         "7",
         "3"
        ],
        [
         "97",
         "Regular",
         "43",
         "3"
        ],
        [
         "161",
         "Long-term",
         "52",
         "1"
        ],
        [
         "71",
         "Regular",
         "17",
         "3"
        ],
        [
         "85",
         "Regular",
         "31",
         "3"
        ],
        [
         "156",
         "Long-term",
         "47",
         "1"
        ],
        [
         "162",
         "Long-term",
         "53",
         "1"
        ],
        [
         "136",
         "Long-term",
         "27",
         "5"
        ]
       ],
       "shape": {
        "columns": 3,
        "rows": 10
       }
      },
      "text/html": [
       "<div>\n",
       "<style scoped>\n",
       "    .dataframe tbody tr th:only-of-type {\n",
       "        vertical-align: middle;\n",
       "    }\n",
       "\n",
       "    .dataframe tbody tr th {\n",
       "        vertical-align: top;\n",
       "    }\n",
       "\n",
       "    .dataframe thead th {\n",
       "        text-align: right;\n",
       "    }\n",
       "</style>\n",
       "<table border=\"1\" class=\"dataframe\">\n",
       "  <thead>\n",
       "    <tr style=\"text-align: right;\">\n",
       "      <th></th>\n",
       "      <th>Patient type</th>\n",
       "      <th>patient_id</th>\n",
       "      <th>appointment_count</th>\n",
       "    </tr>\n",
       "  </thead>\n",
       "  <tbody>\n",
       "    <tr>\n",
       "      <th>150</th>\n",
       "      <td>Long-term</td>\n",
       "      <td>41</td>\n",
       "      <td>1</td>\n",
       "    </tr>\n",
       "    <tr>\n",
       "      <th>117</th>\n",
       "      <td>Long-term</td>\n",
       "      <td>8</td>\n",
       "      <td>3</td>\n",
       "    </tr>\n",
       "    <tr>\n",
       "      <th>6</th>\n",
       "      <td>New</td>\n",
       "      <td>7</td>\n",
       "      <td>3</td>\n",
       "    </tr>\n",
       "    <tr>\n",
       "      <th>97</th>\n",
       "      <td>Regular</td>\n",
       "      <td>43</td>\n",
       "      <td>3</td>\n",
       "    </tr>\n",
       "    <tr>\n",
       "      <th>161</th>\n",
       "      <td>Long-term</td>\n",
       "      <td>52</td>\n",
       "      <td>1</td>\n",
       "    </tr>\n",
       "    <tr>\n",
       "      <th>71</th>\n",
       "      <td>Regular</td>\n",
       "      <td>17</td>\n",
       "      <td>3</td>\n",
       "    </tr>\n",
       "    <tr>\n",
       "      <th>85</th>\n",
       "      <td>Regular</td>\n",
       "      <td>31</td>\n",
       "      <td>3</td>\n",
       "    </tr>\n",
       "    <tr>\n",
       "      <th>156</th>\n",
       "      <td>Long-term</td>\n",
       "      <td>47</td>\n",
       "      <td>1</td>\n",
       "    </tr>\n",
       "    <tr>\n",
       "      <th>162</th>\n",
       "      <td>Long-term</td>\n",
       "      <td>53</td>\n",
       "      <td>1</td>\n",
       "    </tr>\n",
       "    <tr>\n",
       "      <th>136</th>\n",
       "      <td>Long-term</td>\n",
       "      <td>27</td>\n",
       "      <td>5</td>\n",
       "    </tr>\n",
       "  </tbody>\n",
       "</table>\n",
       "</div>"
      ],
      "text/plain": [
       "    Patient type  patient_id  appointment_count\n",
       "150    Long-term          41                  1\n",
       "117    Long-term           8                  3\n",
       "6            New           7                  3\n",
       "97       Regular          43                  3\n",
       "161    Long-term          52                  1\n",
       "71       Regular          17                  3\n",
       "85       Regular          31                  3\n",
       "156    Long-term          47                  1\n",
       "162    Long-term          53                  1\n",
       "136    Long-term          27                  5"
      ]
     },
     "execution_count": 35,
     "metadata": {},
     "output_type": "execute_result"
    }
   ],
   "source": [
    "# How does the appointment frequency vary by patient type?\n",
    "df_grouped = (\n",
    "    df_patients_appointments\n",
    "    .groupby([\"Patient type\", \"patient_id\"], observed=False)[\"appointment_id\"]\n",
    "    .count()\n",
    "    .reset_index(name=\"appointment_count\")\n",
    ")\n",
    "df_grouped = df_grouped[df_grouped[\"appointment_count\"] > 0]\n",
    "df_grouped.sample(10)"
   ]
  },
  {
   "cell_type": "code",
   "execution_count": 36,
   "id": "a07d0455",
   "metadata": {},
   "outputs": [
    {
     "data": {
      "image/png": "[encoded data removed]",
      "text/plain": [
       "<Figure size 640x480 with 1 Axes>"
      ]
     },
     "metadata": {},
     "output_type": "display_data"
    }
   ],
   "source": [
    "sns.histplot(\n",
    "    data=df_grouped,\n",
    "    x=\"appointment_count\",\n",
    "    hue=\"Patient type\",\n",
    "    multiple=\"stack\",\n",
    "    bins=20\n",
    ")\n",
    "plt.title(\"Appointment Frequency by Patient Type\")\n",
    "plt.xlabel(\"Appointment Count\")\n",
    "plt.ylabel(\"Number of Patients\")\n",
    "plt.show()"
   ]
  },
  {
   "cell_type": "code",
   "execution_count": 23,
   "id": "414cfb43",
   "metadata": {},
   "outputs": [
    {
     "name": "stdout",
     "output_type": "stream",
     "text": [
      "              count      mean  median  min  max       std\n",
      "Patient type                                             \n",
      "Regular          55  0.963636     0.0    0    5  1.439697\n",
      "Long-term        55  0.818182     0.0    0    5  1.263313\n",
      "New              55  0.072727     0.0    0    3  0.424026\n"
     ]
    }
   ],
   "source": [
    "# Summary statistics by patient type\n",
    "summary = df_grouped.groupby(\"Patient type\", observed=False)[\"appointment_count\"].agg([\"count\", \"mean\", \"median\", \"min\", \"max\", \"std\"]).sort_values(\"mean\", ascending=False)\n",
    "print(summary)\n"
   ]
  },
  {
   "cell_type": "code",
   "execution_count": 24,
   "id": "f86c227a",
   "metadata": {},
   "outputs": [
    {
     "data": {
      "image/png": "[encoded data removed]",
      "text/plain": [
       "<Figure size 1000x600 with 1 Axes>"
      ]
     },
     "metadata": {},
     "output_type": "display_data"
    }
   ],
   "source": [
    "plt.figure(figsize=(10,6))\n",
    "sns.boxplot(data=df_grouped, x=\"Patient type\", y=\"appointment_count\")\n",
    "plt.title(\"Appointment Frequency Distribution by Patient Type\")\n",
    "plt.ylabel(\"Number of Appointments per Patient\")\n",
    "plt.xticks(rotation=15)\n",
    "plt.grid(axis=\"y\", linestyle=\"--\", alpha=0.7)\n",
    "plt.tight_layout()\n",
    "plt.show()"
   ]
  },
  {
   "cell_type": "markdown",
   "id": "a16c64d8",
   "metadata": {},
   "source": [
    "### Appointment Analysis"
   ]
  },
  {
   "cell_type": "code",
   "execution_count": 25,
   "id": "2cfad9c1",
   "metadata": {},
   "outputs": [
    {
     "data": {
      "application/vnd.microsoft.datawrangler.viewer.v0+json": {
       "columns": [
        {
         "name": "index",
         "rawType": "int64",
         "type": "integer"
        },
        {
         "name": "patient_id",
         "rawType": "int64",
         "type": "integer"
        },
        {
         "name": "name",
         "rawType": "object",
         "type": "string"
        },
        {
         "name": "age",
         "rawType": "float64",
         "type": "float"
        },
        {
         "name": "gender",
         "rawType": "object",
         "type": "string"
        },
        {
         "name": "registration_date",
         "rawType": "datetime64[ns]",
         "type": "datetime"
        },
        {
         "name": "Age Group",
         "rawType": "category",
         "type": "unknown"
        },
        {
         "name": "Patient type",
         "rawType": "category",
         "type": "unknown"
        },
        {
         "name": "appointment_id",
         "rawType": "float64",
         "type": "float"
        },
        {
         "name": "appointment_date",
         "rawType": "datetime64[ns]",
         "type": "datetime"
        },
        {
         "name": "appointment_type",
         "rawType": "object",
         "type": "unknown"
        },
        {
         "name": "provider_id",
         "rawType": "float64",
         "type": "float"
        },
        {
         "name": "Day of week",
         "rawType": "object",
         "type": "unknown"
        },
        {
         "name": "days_since_last_appointment",
         "rawType": "float64",
         "type": "float"
        }
       ],
       "conversionMethod": "pd.DataFrame",
       "ref": "8a37b102-8153-4f54-abfe-72de71faa41c",
       "rows": [
        [
         "0",
         "1",
         "John Hill",
         "89.0",
         "Male",
         "2023-08-23 00:00:00",
         "71+",
         "Regular",
         "4.0",
         "2023-01-16 00:00:00",
         "Consultation",
         "6.0",
         "Monday",
         "837.0"
        ],
        [
         "1",
         "1",
         "John Hill",
         "89.0",
         "Male",
         "2023-08-23 00:00:00",
         "71+",
         "Regular",
         "75.0",
         "2023-03-18 00:00:00",
         "Checkup",
         "5.0",
         "Saturday",
         "776.0"
        ],
        [
         "2",
         "1",
         "John Hill",
         "89.0",
         "Male",
         "2023-08-23 00:00:00",
         "71+",
         "Regular",
         "76.0",
         "2023-04-04 00:00:00",
         "Consultation",
         "2.0",
         "Tuesday",
         "759.0"
        ],
        [
         "3",
         "2",
         "Adam Chavez",
         "21.0",
         "Male",
         "2024-04-01 00:00:00",
         "19-30",
         "Regular",
         "60.0",
         "2023-01-06 00:00:00",
         "Emergency",
         "4.0",
         "Friday",
         "847.0"
        ],
        [
         "4",
         "2",
         "Adam Chavez",
         "21.0",
         "Male",
         "2024-04-01 00:00:00",
         "19-30",
         "Regular",
         "94.0",
         "2023-01-12 00:00:00",
         "Consultation",
         "9.0",
         "Thursday",
         "841.0"
        ],
        [
         "5",
         "3",
         "Troy Scott",
         "36.0",
         "Male",
         "2020-03-04 00:00:00",
         "31-50",
         "Long-term",
         "44.0",
         "2023-04-02 00:00:00",
         "Consultation",
         "1.0",
         "Sunday",
         "761.0"
        ],
        [
         "6",
         "4",
         "Joan Ross",
         "77.0",
         "Female",
         "2021-09-24 00:00:00",
         "71+",
         "Long-term",
         "35.0",
         "2023-03-22 00:00:00",
         "Checkup",
         "7.0",
         "Wednesday",
         "772.0"
        ],
        [
         "7",
         "5",
         "Stephanie Giles",
         "41.0",
         "Female",
         "2022-08-17 00:00:00",
         "31-50",
         "Long-term",
         "69.0",
         "2023-01-01 00:00:00",
         "Checkup",
         "4.0",
         "Sunday",
         "852.0"
        ],
        [
         "8",
         "6",
         "Ellen Turner",
         "21.0",
         "Female",
         "2024-09-20 00:00:00",
         "19-30",
         "Regular",
         "17.0",
         "2023-01-19 00:00:00",
         "Emergency",
         "9.0",
         "Thursday",
         "834.0"
        ],
        [
         "9",
         "6",
         "Ellen Turner",
         "21.0",
         "Female",
         "2024-09-20 00:00:00",
         "19-30",
         "Regular",
         "87.0",
         "2023-02-28 00:00:00",
         "Checkup",
         "9.0",
         "Tuesday",
         "794.0"
        ],
        [
         "10",
         "7",
         "Edward Roberts",
         "53.0",
         "Male",
         "2025-01-22 00:00:00",
         "51-70",
         "New",
         "25.0",
         "2023-02-04 00:00:00",
         "Emergency",
         "4.0",
         "Saturday",
         "818.0"
        ],
        [
         "11",
         "7",
         "Edward Roberts",
         "53.0",
         "Male",
         "2025-01-22 00:00:00",
         "51-70",
         "New",
         "37.0",
         "2023-01-27 00:00:00",
         "Emergency",
         "5.0",
         "Friday",
         "826.0"
        ],
        [
         "12",
         "7",
         "Edward Roberts",
         "53.0",
         "Male",
         "2025-01-22 00:00:00",
         "51-70",
         "New",
         "96.0",
         "2023-01-16 00:00:00",
         "Consultation",
         "8.0",
         "Monday",
         "837.0"
        ],
        [
         "13",
         "8",
         "John Rodriguez",
         "69.0",
         "Male",
         "2023-04-18 00:00:00",
         "51-70",
         "Long-term",
         "14.0",
         "2023-03-24 00:00:00",
         "Emergency",
         "3.0",
         "Friday",
         "770.0"
        ],
        [
         "14",
         "8",
         "John Rodriguez",
         "69.0",
         "Male",
         "2023-04-18 00:00:00",
         "51-70",
         "Long-term",
         "21.0",
         "2023-03-26 00:00:00",
         "Consultation",
         "1.0",
         "Sunday",
         "768.0"
        ],
        [
         "15",
         "8",
         "John Rodriguez",
         "69.0",
         "Male",
         "2023-04-18 00:00:00",
         "51-70",
         "Long-term",
         "65.0",
         "2023-01-13 00:00:00",
         "Consultation",
         "7.0",
         "Friday",
         "840.0"
        ],
        [
         "16",
         "9",
         "Faith Taylor",
         "88.0",
         "Female",
         "2022-09-22 00:00:00",
         "71+",
         "Long-term",
         "18.0",
         "2023-04-01 00:00:00",
         "Checkup",
         "5.0",
         "Saturday",
         "762.0"
        ],
        [
         "17",
         "10",
         "Leonard Lewis",
         "53.0",
         "Male",
         "2023-11-12 00:00:00",
         "51-70",
         "Regular",
         "23.0",
         "2023-03-02 00:00:00",
         "Checkup",
         "3.0",
         "Thursday",
         "792.0"
        ],
        [
         "18",
         "10",
         "Leonard Lewis",
         "53.0",
         "Male",
         "2023-11-12 00:00:00",
         "51-70",
         "Regular",
         "32.0",
         "2023-01-19 00:00:00",
         "Checkup",
         "2.0",
         "Thursday",
         "834.0"
        ],
        [
         "19",
         "11",
         "Christine Sparks",
         "39.0",
         "Female",
         "2024-06-29 00:00:00",
         "31-50",
         "Regular",
         "26.0",
         "2023-02-28 00:00:00",
         "Consultation",
         "7.0",
         "Tuesday",
         "794.0"
        ],
        [
         "20",
         "11",
         "Christine Sparks",
         "39.0",
         "Female",
         "2024-06-29 00:00:00",
         "31-50",
         "Regular",
         "98.0",
         "2023-04-06 00:00:00",
         "Consultation",
         "9.0",
         "Thursday",
         "757.0"
        ],
        [
         "21",
         "12",
         "Mary Hernandez",
         "53.0",
         "Female",
         "2022-04-10 00:00:00",
         "51-70",
         "Long-term",
         "91.0",
         "2023-03-25 00:00:00",
         "Checkup",
         "6.0",
         "Saturday",
         "769.0"
        ],
        [
         "22",
         "13",
         "Megan Wagner",
         "68.0",
         "Female",
         "2023-07-13 00:00:00",
         "51-70",
         "Regular",
         "11.0",
         "2023-02-18 00:00:00",
         "Consultation",
         "1.0",
         "Saturday",
         "804.0"
        ],
        [
         "23",
         "14",
         "Teresa Clark",
         "56.0",
         "Female",
         "2023-05-11 00:00:00",
         "51-70",
         "Long-term",
         "16.0",
         "2023-02-17 00:00:00",
         "Checkup",
         "1.0",
         "Friday",
         "805.0"
        ],
        [
         "24",
         "14",
         "Teresa Clark",
         "56.0",
         "Female",
         "2023-05-11 00:00:00",
         "51-70",
         "Long-term",
         "42.0",
         "2023-01-10 00:00:00",
         "Checkup",
         "7.0",
         "Tuesday",
         "843.0"
        ],
        [
         "25",
         "14",
         "Teresa Clark",
         "56.0",
         "Female",
         "2023-05-11 00:00:00",
         "51-70",
         "Long-term",
         "49.0",
         "2023-03-04 00:00:00",
         "Checkup",
         "4.0",
         "Saturday",
         "790.0"
        ],
        [
         "26",
         "15",
         "Derek Garcia",
         "63.0",
         "Male",
         "2022-09-19 00:00:00",
         "51-70",
         "Long-term",
         null,
         null,
         null,
         null,
         null,
         null
        ],
        [
         "27",
         "16",
         "Nathan Wang",
         "68.0",
         "Male",
         "2020-07-07 00:00:00",
         "51-70",
         "Long-term",
         "24.0",
         "2023-01-21 00:00:00",
         "Checkup",
         "6.0",
         "Saturday",
         "832.0"
        ],
        [
         "28",
         "16",
         "Nathan Wang",
         "68.0",
         "Male",
         "2020-07-07 00:00:00",
         "51-70",
         "Long-term",
         "31.0",
         "2023-02-08 00:00:00",
         "Emergency",
         "2.0",
         "Wednesday",
         "814.0"
        ],
        [
         "29",
         "17",
         "Jacob Smith",
         "21.0",
         "Male",
         "2024-09-18 00:00:00",
         "19-30",
         "Regular",
         "34.0",
         "2023-03-13 00:00:00",
         "Emergency",
         "7.0",
         "Monday",
         "781.0"
        ],
        [
         "30",
         "17",
         "Jacob Smith",
         "21.0",
         "Male",
         "2024-09-18 00:00:00",
         "19-30",
         "Regular",
         "47.0",
         "2023-01-21 00:00:00",
         "Consultation",
         "5.0",
         "Saturday",
         "832.0"
        ],
        [
         "31",
         "17",
         "Jacob Smith",
         "21.0",
         "Male",
         "2024-09-18 00:00:00",
         "19-30",
         "Regular",
         "51.0",
         "2023-02-25 00:00:00",
         "Consultation",
         "2.0",
         "Saturday",
         "797.0"
        ],
        [
         "32",
         "18",
         "Tina James",
         "46.0",
         "Female",
         "2023-11-04 00:00:00",
         "31-50",
         "Regular",
         "79.0",
         "2023-01-03 00:00:00",
         "Consultation",
         "6.0",
         "Tuesday",
         "850.0"
        ],
        [
         "33",
         "18",
         "Tina James",
         "46.0",
         "Female",
         "2023-11-04 00:00:00",
         "31-50",
         "Regular",
         "83.0",
         "2023-01-02 00:00:00",
         "Emergency",
         "1.0",
         "Monday",
         "851.0"
        ],
        [
         "34",
         "18",
         "Tina James",
         "46.0",
         "Female",
         "2023-11-04 00:00:00",
         "31-50",
         "Regular",
         "86.0",
         "2023-02-04 00:00:00",
         "Consultation",
         "8.0",
         "Saturday",
         "818.0"
        ],
        [
         "35",
         "19",
         "Brian Franklin",
         "21.0",
         "Male",
         "2023-07-26 00:00:00",
         "19-30",
         "Regular",
         null,
         null,
         null,
         null,
         null,
         null
        ],
        [
         "36",
         "20",
         "George Parker",
         "77.0",
         "Male",
         "2020-11-25 00:00:00",
         "71+",
         "Long-term",
         "19.0",
         "2023-03-07 00:00:00",
         "Checkup",
         "7.0",
         "Tuesday",
         "787.0"
        ],
        [
         "37",
         "20",
         "George Parker",
         "77.0",
         "Male",
         "2020-11-25 00:00:00",
         "71+",
         "Long-term",
         "46.0",
         "2023-01-17 00:00:00",
         "Emergency",
         "4.0",
         "Tuesday",
         "836.0"
        ],
        [
         "38",
         "20",
         "George Parker",
         "77.0",
         "Male",
         "2020-11-25 00:00:00",
         "71+",
         "Long-term",
         "59.0",
         "2023-03-06 00:00:00",
         "Checkup",
         "2.0",
         "Monday",
         "788.0"
        ],
        [
         "39",
         "20",
         "George Parker",
         "77.0",
         "Male",
         "2020-11-25 00:00:00",
         "71+",
         "Long-term",
         "89.0",
         "2023-01-17 00:00:00",
         "Checkup",
         "8.0",
         "Tuesday",
         "836.0"
        ],
        [
         "40",
         "21",
         "Emily Johnson",
         "75.0",
         "Female",
         "2024-06-13 00:00:00",
         "71+",
         "Regular",
         "88.0",
         "2023-03-06 00:00:00",
         "Consultation",
         "7.0",
         "Monday",
         "788.0"
        ],
        [
         "41",
         "22",
         "James Keith",
         "49.0",
         "Male",
         "2021-06-20 00:00:00",
         "31-50",
         "Long-term",
         "68.0",
         "2023-01-13 00:00:00",
         "Checkup",
         "4.0",
         "Friday",
         "840.0"
        ],
        [
         "42",
         "23",
         "William Navarro",
         "47.0",
         "Male",
         "2023-11-14 00:00:00",
         "31-50",
         "Regular",
         "20.0",
         "2023-03-21 00:00:00",
         "Checkup",
         "9.0",
         "Tuesday",
         "773.0"
        ],
        [
         "43",
         "24",
         "Michele Curtis",
         "33.0",
         "Female",
         "2024-08-18 00:00:00",
         "31-50",
         "Regular",
         "74.0",
         "2023-02-26 00:00:00",
         "Consultation",
         "1.0",
         "Sunday",
         "796.0"
        ],
        [
         "44",
         "24",
         "Michele Curtis",
         "33.0",
         "Female",
         "2024-08-18 00:00:00",
         "31-50",
         "Regular",
         "81.0",
         "2023-02-19 00:00:00",
         "Checkup",
         "4.0",
         "Sunday",
         "803.0"
        ],
        [
         "45",
         "25",
         "Jason Dunn",
         "72.0",
         "Male",
         "2020-10-03 00:00:00",
         "71+",
         "Long-term",
         null,
         null,
         null,
         null,
         null,
         null
        ],
        [
         "46",
         "26",
         "Ashley Campos",
         "68.0",
         "Female",
         "2021-10-03 00:00:00",
         "51-70",
         "Long-term",
         "12.0",
         "2023-04-01 00:00:00",
         "Consultation",
         "5.0",
         "Saturday",
         "762.0"
        ],
        [
         "47",
         "26",
         "Ashley Campos",
         "68.0",
         "Female",
         "2021-10-03 00:00:00",
         "51-70",
         "Long-term",
         "82.0",
         "2023-02-14 00:00:00",
         "Checkup",
         "8.0",
         "Tuesday",
         "808.0"
        ],
        [
         "48",
         "27",
         "Jason Shepard",
         "81.0",
         "Male",
         "2020-12-20 00:00:00",
         "71+",
         "Long-term",
         "22.0",
         "2023-03-26 00:00:00",
         "Checkup",
         "5.0",
         "Sunday",
         "768.0"
        ],
        [
         "49",
         "27",
         "Jason Shepard",
         "81.0",
         "Male",
         "2020-12-20 00:00:00",
         "71+",
         "Long-term",
         "38.0",
         "2023-03-22 00:00:00",
         "Checkup",
         "1.0",
         "Wednesday",
         "772.0"
        ]
       ],
       "shape": {
        "columns": 13,
        "rows": 112
       }
      },
      "text/html": [
       "<div>\n",
       "<style scoped>\n",
       "    .dataframe tbody tr th:only-of-type {\n",
       "        vertical-align: middle;\n",
       "    }\n",
       "\n",
       "    .dataframe tbody tr th {\n",
       "        vertical-align: top;\n",
       "    }\n",
       "\n",
       "    .dataframe thead th {\n",
       "        text-align: right;\n",
       "    }\n",
       "</style>\n",
       "<table border=\"1\" class=\"dataframe\">\n",
       "  <thead>\n",
       "    <tr style=\"text-align: right;\">\n",
       "      <th></th>\n",
       "      <th>patient_id</th>\n",
       "      <th>name</th>\n",
       "      <th>age</th>\n",
       "      <th>gender</th>\n",
       "      <th>registration_date</th>\n",
       "      <th>Age Group</th>\n",
       "      <th>Patient type</th>\n",
       "      <th>appointment_id</th>\n",
       "      <th>appointment_date</th>\n",
       "      <th>appointment_type</th>\n",
       "      <th>provider_id</th>\n",
       "      <th>Day of week</th>\n",
       "      <th>days_since_last_appointment</th>\n",
       "    </tr>\n",
       "  </thead>\n",
       "  <tbody>\n",
       "    <tr>\n",
       "      <th>0</th>\n",
       "      <td>1</td>\n",
       "      <td>John Hill</td>\n",
       "      <td>89.0</td>\n",
       "      <td>Male</td>\n",
       "      <td>2023-08-23</td>\n",
       "      <td>71+</td>\n",
       "      <td>Regular</td>\n",
       "      <td>4.0</td>\n",
       "      <td>2023-01-16</td>\n",
       "      <td>Consultation</td>\n",
       "      <td>6.0</td>\n",
       "      <td>Monday</td>\n",
       "      <td>837.0</td>\n",
       "    </tr>\n",
       "    <tr>\n",
       "      <th>1</th>\n",
       "      <td>1</td>\n",
       "      <td>John Hill</td>\n",
       "      <td>89.0</td>\n",
       "      <td>Male</td>\n",
       "      <td>2023-08-23</td>\n",
       "      <td>71+</td>\n",
       "      <td>Regular</td>\n",
       "      <td>75.0</td>\n",
       "      <td>2023-03-18</td>\n",
       "      <td>Checkup</td>\n",
       "      <td>5.0</td>\n",
       "      <td>Saturday</td>\n",
       "      <td>776.0</td>\n",
       "    </tr>\n",
       "    <tr>\n",
       "      <th>2</th>\n",
       "      <td>1</td>\n",
       "      <td>John Hill</td>\n",
       "      <td>89.0</td>\n",
       "      <td>Male</td>\n",
       "      <td>2023-08-23</td>\n",
       "      <td>71+</td>\n",
       "      <td>Regular</td>\n",
       "      <td>76.0</td>\n",
       "      <td>2023-04-04</td>\n",
       "      <td>Consultation</td>\n",
       "      <td>2.0</td>\n",
       "      <td>Tuesday</td>\n",
       "      <td>759.0</td>\n",
       "    </tr>\n",
       "    <tr>\n",
       "      <th>3</th>\n",
       "      <td>2</td>\n",
       "      <td>Adam Chavez</td>\n",
       "      <td>21.0</td>\n",
       "      <td>Male</td>\n",
       "      <td>2024-04-01</td>\n",
       "      <td>19-30</td>\n",
       "      <td>Regular</td>\n",
       "      <td>60.0</td>\n",
       "      <td>2023-01-06</td>\n",
       "      <td>Emergency</td>\n",
       "      <td>4.0</td>\n",
       "      <td>Friday</td>\n",
       "      <td>847.0</td>\n",
       "    </tr>\n",
       "    <tr>\n",
       "      <th>4</th>\n",
       "      <td>2</td>\n",
       "      <td>Adam Chavez</td>\n",
       "      <td>21.0</td>\n",
       "      <td>Male</td>\n",
       "      <td>2024-04-01</td>\n",
       "      <td>19-30</td>\n",
       "      <td>Regular</td>\n",
       "      <td>94.0</td>\n",
       "      <td>2023-01-12</td>\n",
       "      <td>Consultation</td>\n",
       "      <td>9.0</td>\n",
       "      <td>Thursday</td>\n",
       "      <td>841.0</td>\n",
       "    </tr>\n",
       "    <tr>\n",
       "      <th>...</th>\n",
       "      <td>...</td>\n",
       "      <td>...</td>\n",
       "      <td>...</td>\n",
       "      <td>...</td>\n",
       "      <td>...</td>\n",
       "      <td>...</td>\n",
       "      <td>...</td>\n",
       "      <td>...</td>\n",
       "      <td>...</td>\n",
       "      <td>...</td>\n",
       "      <td>...</td>\n",
       "      <td>...</td>\n",
       "      <td>...</td>\n",
       "    </tr>\n",
       "    <tr>\n",
       "      <th>107</th>\n",
       "      <td>51</td>\n",
       "      <td>Robert Johnson</td>\n",
       "      <td>NaN</td>\n",
       "      <td>Male</td>\n",
       "      <td>2023-01-15</td>\n",
       "      <td>NaN</td>\n",
       "      <td>Long-term</td>\n",
       "      <td>101.0</td>\n",
       "      <td>2022-12-15</td>\n",
       "      <td>Checkup</td>\n",
       "      <td>4.0</td>\n",
       "      <td>Thursday</td>\n",
       "      <td>869.0</td>\n",
       "    </tr>\n",
       "    <tr>\n",
       "      <th>108</th>\n",
       "      <td>52</td>\n",
       "      <td>Margaret Smith</td>\n",
       "      <td>NaN</td>\n",
       "      <td>Female</td>\n",
       "      <td>2023-03-20</td>\n",
       "      <td>NaN</td>\n",
       "      <td>Long-term</td>\n",
       "      <td>102.0</td>\n",
       "      <td>2023-01-20</td>\n",
       "      <td>Consultation</td>\n",
       "      <td>2.0</td>\n",
       "      <td>Friday</td>\n",
       "      <td>833.0</td>\n",
       "    </tr>\n",
       "    <tr>\n",
       "      <th>109</th>\n",
       "      <td>53</td>\n",
       "      <td>Thomas Brown</td>\n",
       "      <td>NaN</td>\n",
       "      <td>Male</td>\n",
       "      <td>2023-02-10</td>\n",
       "      <td>NaN</td>\n",
       "      <td>Long-term</td>\n",
       "      <td>103.0</td>\n",
       "      <td>2023-01-10</td>\n",
       "      <td>Emergency</td>\n",
       "      <td>7.0</td>\n",
       "      <td>Tuesday</td>\n",
       "      <td>843.0</td>\n",
       "    </tr>\n",
       "    <tr>\n",
       "      <th>110</th>\n",
       "      <td>54</td>\n",
       "      <td>Jennifer Davis</td>\n",
       "      <td>NaN</td>\n",
       "      <td>Female</td>\n",
       "      <td>2023-04-05</td>\n",
       "      <td>NaN</td>\n",
       "      <td>Long-term</td>\n",
       "      <td>104.0</td>\n",
       "      <td>2023-02-05</td>\n",
       "      <td>Checkup</td>\n",
       "      <td>5.0</td>\n",
       "      <td>Sunday</td>\n",
       "      <td>817.0</td>\n",
       "    </tr>\n",
       "    <tr>\n",
       "      <th>111</th>\n",
       "      <td>55</td>\n",
       "      <td>William Wilson</td>\n",
       "      <td>NaN</td>\n",
       "      <td>Male</td>\n",
       "      <td>2023-01-25</td>\n",
       "      <td>NaN</td>\n",
       "      <td>Long-term</td>\n",
       "      <td>105.0</td>\n",
       "      <td>2022-12-25</td>\n",
       "      <td>Consultation</td>\n",
       "      <td>3.0</td>\n",
       "      <td>Sunday</td>\n",
       "      <td>859.0</td>\n",
       "    </tr>\n",
       "  </tbody>\n",
       "</table>\n",
       "<p>112 rows × 13 columns</p>\n",
       "</div>"
      ],
      "text/plain": [
       "     patient_id            name   age  gender registration_date Age Group  \\\n",
       "0             1       John Hill  89.0    Male        2023-08-23       71+   \n",
       "1             1       John Hill  89.0    Male        2023-08-23       71+   \n",
       "2             1       John Hill  89.0    Male        2023-08-23       71+   \n",
       "3             2     Adam Chavez  21.0    Male        2024-04-01     19-30   \n",
       "4             2     Adam Chavez  21.0    Male        2024-04-01     19-30   \n",
       "..          ...             ...   ...     ...               ...       ...   \n",
       "107          51  Robert Johnson   NaN    Male        2023-01-15       NaN   \n",
       "108          52  Margaret Smith   NaN  Female        2023-03-20       NaN   \n",
       "109          53    Thomas Brown   NaN    Male        2023-02-10       NaN   \n",
       "110          54  Jennifer Davis   NaN  Female        2023-04-05       NaN   \n",
       "111          55  William Wilson   NaN    Male        2023-01-25       NaN   \n",
       "\n",
       "    Patient type  appointment_id appointment_date appointment_type  \\\n",
       "0        Regular             4.0       2023-01-16     Consultation   \n",
       "1        Regular            75.0       2023-03-18          Checkup   \n",
       "2        Regular            76.0       2023-04-04     Consultation   \n",
       "3        Regular            60.0       2023-01-06        Emergency   \n",
       "4        Regular            94.0       2023-01-12     Consultation   \n",
       "..           ...             ...              ...              ...   \n",
       "107    Long-term           101.0       2022-12-15          Checkup   \n",
       "108    Long-term           102.0       2023-01-20     Consultation   \n",
       "109    Long-term           103.0       2023-01-10        Emergency   \n",
       "110    Long-term           104.0       2023-02-05          Checkup   \n",
       "111    Long-term           105.0       2022-12-25     Consultation   \n",
       "\n",
       "     provider_id Day of week  days_since_last_appointment  \n",
       "0            6.0      Monday                        837.0  \n",
       "1            5.0    Saturday                        776.0  \n",
       "2            2.0     Tuesday                        759.0  \n",
       "3            4.0      Friday                        847.0  \n",
       "4            9.0    Thursday                        841.0  \n",
       "..           ...         ...                          ...  \n",
       "107          4.0    Thursday                        869.0  \n",
       "108          2.0      Friday                        833.0  \n",
       "109          7.0     Tuesday                        843.0  \n",
       "110          5.0      Sunday                        817.0  \n",
       "111          3.0      Sunday                        859.0  \n",
       "\n",
       "[112 rows x 13 columns]"
      ]
     },
     "execution_count": 25,
     "metadata": {},
     "output_type": "execute_result"
    }
   ],
   "source": [
    "df_patients_appointments"
   ]
  },
  {
   "cell_type": "code",
   "execution_count": 26,
   "id": "f64615fe",
   "metadata": {},
   "outputs": [
    {
     "data": {
      "application/vnd.microsoft.datawrangler.viewer.v0+json": {
       "columns": [
        {
         "name": "index",
         "rawType": "int64",
         "type": "integer"
        },
        {
         "name": "Age Group",
         "rawType": "category",
         "type": "unknown"
        },
        {
         "name": "appointment_type",
         "rawType": "object",
         "type": "string"
        },
        {
         "name": "appointment_count",
         "rawType": "int64",
         "type": "integer"
        }
       ],
       "conversionMethod": "pd.DataFrame",
       "ref": "056459ee-b3ca-4512-9459-f1e0bc7b8625",
       "rows": [
        [
         "0",
         "0-18",
         "Consultation",
         "2"
        ],
        [
         "1",
         "19-30",
         "Emergency",
         "8"
        ],
        [
         "2",
         "31-50",
         "Consultation",
         "10"
        ],
        [
         "3",
         "51-70",
         "Checkup",
         "14"
        ],
        [
         "4",
         "71+",
         "Checkup",
         "13"
        ]
       ],
       "shape": {
        "columns": 3,
        "rows": 5
       }
      },
      "text/html": [
       "<div>\n",
       "<style scoped>\n",
       "    .dataframe tbody tr th:only-of-type {\n",
       "        vertical-align: middle;\n",
       "    }\n",
       "\n",
       "    .dataframe tbody tr th {\n",
       "        vertical-align: top;\n",
       "    }\n",
       "\n",
       "    .dataframe thead th {\n",
       "        text-align: right;\n",
       "    }\n",
       "</style>\n",
       "<table border=\"1\" class=\"dataframe\">\n",
       "  <thead>\n",
       "    <tr style=\"text-align: right;\">\n",
       "      <th></th>\n",
       "      <th>Age Group</th>\n",
       "      <th>appointment_type</th>\n",
       "      <th>appointment_count</th>\n",
       "    </tr>\n",
       "  </thead>\n",
       "  <tbody>\n",
       "    <tr>\n",
       "      <th>0</th>\n",
       "      <td>0-18</td>\n",
       "      <td>Consultation</td>\n",
       "      <td>2</td>\n",
       "    </tr>\n",
       "    <tr>\n",
       "      <th>1</th>\n",
       "      <td>19-30</td>\n",
       "      <td>Emergency</td>\n",
       "      <td>8</td>\n",
       "    </tr>\n",
       "    <tr>\n",
       "      <th>2</th>\n",
       "      <td>31-50</td>\n",
       "      <td>Consultation</td>\n",
       "      <td>10</td>\n",
       "    </tr>\n",
       "    <tr>\n",
       "      <th>3</th>\n",
       "      <td>51-70</td>\n",
       "      <td>Checkup</td>\n",
       "      <td>14</td>\n",
       "    </tr>\n",
       "    <tr>\n",
       "      <th>4</th>\n",
       "      <td>71+</td>\n",
       "      <td>Checkup</td>\n",
       "      <td>13</td>\n",
       "    </tr>\n",
       "  </tbody>\n",
       "</table>\n",
       "</div>"
      ],
      "text/plain": [
       "  Age Group appointment_type  appointment_count\n",
       "0      0-18     Consultation                  2\n",
       "1     19-30        Emergency                  8\n",
       "2     31-50     Consultation                 10\n",
       "3     51-70          Checkup                 14\n",
       "4       71+          Checkup                 13"
      ]
     },
     "execution_count": 26,
     "metadata": {},
     "output_type": "execute_result"
    }
   ],
   "source": [
    "# What are the most common appointment types by age group?\n",
    "df_grouped = (\n",
    "    df_patients_appointments\n",
    "    .groupby([\"Age Group\", \"appointment_type\"], observed=False)[\"appointment_id\"]\n",
    "    .count()\n",
    "    .reset_index(name=\"appointment_count\")\n",
    ")\n",
    "\n",
    "idx = df_grouped.groupby(\"Age Group\", observed=False)[\"appointment_count\"].idxmax()\n",
    "\n",
    "most_common_per_age_group = df_grouped.loc[idx].reset_index(drop=True)\n",
    "\n",
    "most_common_per_age_group"
   ]
  },
  {
   "cell_type": "code",
   "execution_count": 27,
   "id": "d8346891",
   "metadata": {},
   "outputs": [
    {
     "data": {
      "image/png": "[encoded data removed]",
      "text/plain": [
       "<Figure size 1000x600 with 1 Axes>"
      ]
     },
     "metadata": {},
     "output_type": "display_data"
    }
   ],
   "source": [
    "# Are there specific days of the week with higher emergency visits?\n",
    "day_order = ['Monday', 'Tuesday', 'Wednesday', 'Thursday', 'Friday', 'Saturday', 'Sunday']\n",
    "df_emergency = dfs[\"appointments\"][dfs[\"appointments\"][\"appointment_type\"] == \"Emergency\"]\n",
    "\n",
    "plt.figure(figsize=(10,6))\n",
    "sns.countplot(data=df_emergency , x=\"Day of week\", order=day_order)\n",
    "\n",
    "plt.title(\"Distribution of Emergencies Across days of the week\")\n",
    "plt.xlabel(\"Day of week\")\n",
    "plt.ylabel(\"Emergencies\")\n",
    "plt.xticks(rotation=45)\n",
    "plt.grid(axis=\"y\", linestyle=\"--\", alpha=0.7)\n",
    "plt.tight_layout()\n",
    "plt.show()\n"
   ]
  },
  {
   "cell_type": "markdown",
   "id": "bf4fa4c1",
   "metadata": {},
   "source": [
    "### Prescription Analysis"
   ]
  },
  {
   "cell_type": "code",
   "execution_count": 28,
   "id": "5324ceae",
   "metadata": {},
   "outputs": [
    {
     "data": {
      "application/vnd.microsoft.datawrangler.viewer.v0+json": {
       "columns": [
        {
         "name": "index",
         "rawType": "int64",
         "type": "integer"
        },
        {
         "name": "prescription_id",
         "rawType": "int64",
         "type": "integer"
        },
        {
         "name": "patient_id",
         "rawType": "int64",
         "type": "integer"
        },
        {
         "name": "medication_name",
         "rawType": "object",
         "type": "string"
        },
        {
         "name": "prescription_date",
         "rawType": "object",
         "type": "string"
        },
        {
         "name": "id_category",
         "rawType": "int64",
         "type": "integer"
        },
        {
         "name": "category_name",
         "rawType": "object",
         "type": "string"
        },
        {
         "name": "Prescription frequency",
         "rawType": "object",
         "type": "string"
        },
        {
         "name": "Age Group",
         "rawType": "category",
         "type": "unknown"
        }
       ],
       "conversionMethod": "pd.DataFrame",
       "ref": "e24f7dc4-3750-4c9f-abe3-d1775693f122",
       "rows": [
        [
         "54",
         "55",
         "26",
         "Atorvastatin",
         "2023-01-12",
         "3",
         "Heart",
         "First-time",
         "51-70"
        ],
        [
         "79",
         "80",
         "21",
         "Aspirin",
         "2023-02-02",
         "5",
         "Common",
         "Repeat",
         "71+"
        ],
        [
         "93",
         "94",
         "9",
         "Amoxicillin",
         "2023-03-21",
         "4",
         "Antibiotic",
         "Repeat",
         "71+"
        ],
        [
         "73",
         "74",
         "39",
         "Atorvastatin",
         "2023-02-18",
         "3",
         "Heart",
         "First-time",
         "71+"
        ],
        [
         "80",
         "81",
         "28",
         "Ibuprofen",
         "2023-03-09",
         "1",
         "Pain Relief",
         "Repeat",
         "71+"
        ],
        [
         "91",
         "92",
         "16",
         "Amoxicillin",
         "2023-01-13",
         "4",
         "Antibiotic",
         "First-time",
         "51-70"
        ],
        [
         "18",
         "19",
         "18",
         "Atorvastatin",
         "2023-03-30",
         "3",
         "Heart",
         "First-time",
         "31-50"
        ],
        [
         "89",
         "90",
         "27",
         "Aspirin",
         "2023-03-07",
         "5",
         "Common",
         "Repeat",
         "71+"
        ],
        [
         "81",
         "82",
         "22",
         "Atorvastatin",
         "2023-02-16",
         "3",
         "Heart",
         "Repeat",
         "31-50"
        ],
        [
         "60",
         "61",
         "30",
         "Ibuprofen",
         "2023-02-27",
         "1",
         "Pain Relief",
         "Repeat",
         "31-50"
        ]
       ],
       "shape": {
        "columns": 8,
        "rows": 10
       }
      },
      "text/html": [
       "<div>\n",
       "<style scoped>\n",
       "    .dataframe tbody tr th:only-of-type {\n",
       "        vertical-align: middle;\n",
       "    }\n",
       "\n",
       "    .dataframe tbody tr th {\n",
       "        vertical-align: top;\n",
       "    }\n",
       "\n",
       "    .dataframe thead th {\n",
       "        text-align: right;\n",
       "    }\n",
       "</style>\n",
       "<table border=\"1\" class=\"dataframe\">\n",
       "  <thead>\n",
       "    <tr style=\"text-align: right;\">\n",
       "      <th></th>\n",
       "      <th>prescription_id</th>\n",
       "      <th>patient_id</th>\n",
       "      <th>medication_name</th>\n",
       "      <th>prescription_date</th>\n",
       "      <th>id_category</th>\n",
       "      <th>category_name</th>\n",
       "      <th>Prescription frequency</th>\n",
       "      <th>Age Group</th>\n",
       "    </tr>\n",
       "  </thead>\n",
       "  <tbody>\n",
       "    <tr>\n",
       "      <th>54</th>\n",
       "      <td>55</td>\n",
       "      <td>26</td>\n",
       "      <td>Atorvastatin</td>\n",
       "      <td>2023-01-12</td>\n",
       "      <td>3</td>\n",
       "      <td>Heart</td>\n",
       "      <td>First-time</td>\n",
       "      <td>51-70</td>\n",
       "    </tr>\n",
       "    <tr>\n",
       "      <th>79</th>\n",
       "      <td>80</td>\n",
       "      <td>21</td>\n",
       "      <td>Aspirin</td>\n",
       "      <td>2023-02-02</td>\n",
       "      <td>5</td>\n",
       "      <td>Common</td>\n",
       "      <td>Repeat</td>\n",
       "      <td>71+</td>\n",
       "    </tr>\n",
       "    <tr>\n",
       "      <th>93</th>\n",
       "      <td>94</td>\n",
       "      <td>9</td>\n",
       "      <td>Amoxicillin</td>\n",
       "      <td>2023-03-21</td>\n",
       "      <td>4</td>\n",
       "      <td>Antibiotic</td>\n",
       "      <td>Repeat</td>\n",
       "      <td>71+</td>\n",
       "    </tr>\n",
       "    <tr>\n",
       "      <th>73</th>\n",
       "      <td>74</td>\n",
       "      <td>39</td>\n",
       "      <td>Atorvastatin</td>\n",
       "      <td>2023-02-18</td>\n",
       "      <td>3</td>\n",
       "      <td>Heart</td>\n",
       "      <td>First-time</td>\n",
       "      <td>71+</td>\n",
       "    </tr>\n",
       "    <tr>\n",
       "      <th>80</th>\n",
       "      <td>81</td>\n",
       "      <td>28</td>\n",
       "      <td>Ibuprofen</td>\n",
       "      <td>2023-03-09</td>\n",
       "      <td>1</td>\n",
       "      <td>Pain Relief</td>\n",
       "      <td>Repeat</td>\n",
       "      <td>71+</td>\n",
       "    </tr>\n",
       "    <tr>\n",
       "      <th>91</th>\n",
       "      <td>92</td>\n",
       "      <td>16</td>\n",
       "      <td>Amoxicillin</td>\n",
       "      <td>2023-01-13</td>\n",
       "      <td>4</td>\n",
       "      <td>Antibiotic</td>\n",
       "      <td>First-time</td>\n",
       "      <td>51-70</td>\n",
       "    </tr>\n",
       "    <tr>\n",
       "      <th>18</th>\n",
       "      <td>19</td>\n",
       "      <td>18</td>\n",
       "      <td>Atorvastatin</td>\n",
       "      <td>2023-03-30</td>\n",
       "      <td>3</td>\n",
       "      <td>Heart</td>\n",
       "      <td>First-time</td>\n",
       "      <td>31-50</td>\n",
       "    </tr>\n",
       "    <tr>\n",
       "      <th>89</th>\n",
       "      <td>90</td>\n",
       "      <td>27</td>\n",
       "      <td>Aspirin</td>\n",
       "      <td>2023-03-07</td>\n",
       "      <td>5</td>\n",
       "      <td>Common</td>\n",
       "      <td>Repeat</td>\n",
       "      <td>71+</td>\n",
       "    </tr>\n",
       "    <tr>\n",
       "      <th>81</th>\n",
       "      <td>82</td>\n",
       "      <td>22</td>\n",
       "      <td>Atorvastatin</td>\n",
       "      <td>2023-02-16</td>\n",
       "      <td>3</td>\n",
       "      <td>Heart</td>\n",
       "      <td>Repeat</td>\n",
       "      <td>31-50</td>\n",
       "    </tr>\n",
       "    <tr>\n",
       "      <th>60</th>\n",
       "      <td>61</td>\n",
       "      <td>30</td>\n",
       "      <td>Ibuprofen</td>\n",
       "      <td>2023-02-27</td>\n",
       "      <td>1</td>\n",
       "      <td>Pain Relief</td>\n",
       "      <td>Repeat</td>\n",
       "      <td>31-50</td>\n",
       "    </tr>\n",
       "  </tbody>\n",
       "</table>\n",
       "</div>"
      ],
      "text/plain": [
       "    prescription_id  patient_id medication_name prescription_date  \\\n",
       "54               55          26    Atorvastatin        2023-01-12   \n",
       "79               80          21         Aspirin        2023-02-02   \n",
       "93               94           9     Amoxicillin        2023-03-21   \n",
       "73               74          39    Atorvastatin        2023-02-18   \n",
       "80               81          28       Ibuprofen        2023-03-09   \n",
       "91               92          16     Amoxicillin        2023-01-13   \n",
       "18               19          18    Atorvastatin        2023-03-30   \n",
       "89               90          27         Aspirin        2023-03-07   \n",
       "81               82          22    Atorvastatin        2023-02-16   \n",
       "60               61          30       Ibuprofen        2023-02-27   \n",
       "\n",
       "    id_category category_name Prescription frequency Age Group  \n",
       "54            3         Heart             First-time     51-70  \n",
       "79            5        Common                 Repeat       71+  \n",
       "93            4    Antibiotic                 Repeat       71+  \n",
       "73            3         Heart             First-time       71+  \n",
       "80            1   Pain Relief                 Repeat       71+  \n",
       "91            4    Antibiotic             First-time     51-70  \n",
       "18            3         Heart             First-time     31-50  \n",
       "89            5        Common                 Repeat       71+  \n",
       "81            3         Heart                 Repeat     31-50  \n",
       "60            1   Pain Relief                 Repeat     31-50  "
      ]
     },
     "execution_count": 28,
     "metadata": {},
     "output_type": "execute_result"
    }
   ],
   "source": [
    "df_prescriptions_patient = dfs[\"prescriptions\"].merge(dfs[\"patients\"].loc[:, [\"patient_id\", \"Age Group\"]], on=\"patient_id\", how=\"inner\")\n",
    "df_prescriptions_patient.sample(10)"
   ]
  },
  {
   "cell_type": "code",
   "execution_count": 29,
   "id": "35599d64",
   "metadata": {},
   "outputs": [
    {
     "data": {
      "application/vnd.microsoft.datawrangler.viewer.v0+json": {
       "columns": [
        {
         "name": "index",
         "rawType": "int64",
         "type": "integer"
        },
        {
         "name": "Age Group",
         "rawType": "category",
         "type": "unknown"
        },
        {
         "name": "category_name",
         "rawType": "object",
         "type": "string"
        },
        {
         "name": "prescription_count",
         "rawType": "int64",
         "type": "integer"
        }
       ],
       "conversionMethod": "pd.DataFrame",
       "ref": "b7646b74-746d-41b2-84cc-de8b2e2dba12",
       "rows": [
        [
         "0",
         "0-18",
         "Antibiotic",
         "1"
        ],
        [
         "1",
         "19-30",
         "Heart",
         "4"
        ],
        [
         "2",
         "31-50",
         "Heart",
         "16"
        ],
        [
         "3",
         "51-70",
         "Common",
         "10"
        ],
        [
         "4",
         "71+",
         "Heart",
         "13"
        ]
       ],
       "shape": {
        "columns": 3,
        "rows": 5
       }
      },
      "text/html": [
       "<div>\n",
       "<style scoped>\n",
       "    .dataframe tbody tr th:only-of-type {\n",
       "        vertical-align: middle;\n",
       "    }\n",
       "\n",
       "    .dataframe tbody tr th {\n",
       "        vertical-align: top;\n",
       "    }\n",
       "\n",
       "    .dataframe thead th {\n",
       "        text-align: right;\n",
       "    }\n",
       "</style>\n",
       "<table border=\"1\" class=\"dataframe\">\n",
       "  <thead>\n",
       "    <tr style=\"text-align: right;\">\n",
       "      <th></th>\n",
       "      <th>Age Group</th>\n",
       "      <th>category_name</th>\n",
       "      <th>prescription_count</th>\n",
       "    </tr>\n",
       "  </thead>\n",
       "  <tbody>\n",
       "    <tr>\n",
       "      <th>0</th>\n",
       "      <td>0-18</td>\n",
       "      <td>Antibiotic</td>\n",
       "      <td>1</td>\n",
       "    </tr>\n",
       "    <tr>\n",
       "      <th>1</th>\n",
       "      <td>19-30</td>\n",
       "      <td>Heart</td>\n",
       "      <td>4</td>\n",
       "    </tr>\n",
       "    <tr>\n",
       "      <th>2</th>\n",
       "      <td>31-50</td>\n",
       "      <td>Heart</td>\n",
       "      <td>16</td>\n",
       "    </tr>\n",
       "    <tr>\n",
       "      <th>3</th>\n",
       "      <td>51-70</td>\n",
       "      <td>Common</td>\n",
       "      <td>10</td>\n",
       "    </tr>\n",
       "    <tr>\n",
       "      <th>4</th>\n",
       "      <td>71+</td>\n",
       "      <td>Heart</td>\n",
       "      <td>13</td>\n",
       "    </tr>\n",
       "  </tbody>\n",
       "</table>\n",
       "</div>"
      ],
      "text/plain": [
       "  Age Group category_name  prescription_count\n",
       "0      0-18    Antibiotic                   1\n",
       "1     19-30         Heart                   4\n",
       "2     31-50         Heart                  16\n",
       "3     51-70        Common                  10\n",
       "4       71+         Heart                  13"
      ]
     },
     "execution_count": 29,
     "metadata": {},
     "output_type": "execute_result"
    }
   ],
   "source": [
    "# What are the most prescribed medication categories by age group?\n",
    "df_grouped = (\n",
    "    df_prescriptions_patient\n",
    "    .groupby([\"Age Group\", \"category_name\"], observed=False)[\"prescription_id\"]\n",
    "    .count()\n",
    "    .reset_index(name=\"prescription_count\")\n",
    ")\n",
    "\n",
    "idx = df_grouped.groupby(\"Age Group\", observed=False)[\"prescription_count\"].idxmax()\n",
    "\n",
    "most_common_per_age_group = df_grouped.loc[idx].reset_index(drop=True)\n",
    "\n",
    "most_common_per_age_group"
   ]
  },
  {
   "cell_type": "code",
   "execution_count": 37,
   "id": "36d01124",
   "metadata": {},
   "outputs": [
    {
     "data": {
      "image/png": "[encoded data removed]",
      "text/plain": [
       "<Figure size 640x480 with 1 Axes>"
      ]
     },
     "metadata": {},
     "output_type": "display_data"
    },
    {
     "name": "stdout",
     "output_type": "stream",
     "text": [
      "Pearson correlation: -0.09\n"
     ]
    }
   ],
   "source": [
    "# How does prescription frequency correlate with appointment frequency?\n",
    "\n",
    "# Step 1: Count appointments per patient\n",
    "appointment_counts = dfs[\"appointments\"].groupby(\"patient_id\").size().reset_index(name=\"appointment_count\")\n",
    "\n",
    "# Step 2: Count prescriptions per patient\n",
    "prescription_counts = dfs[\"prescriptions\"].groupby(\"patient_id\").size().reset_index(name=\"prescription_count\")\n",
    "\n",
    "# Step 3: Merge the two on patient_id\n",
    "merged_df = pd.merge(appointment_counts, prescription_counts, on=\"patient_id\", how=\"inner\")\n",
    "\n",
    "# Step 4: Scatter plot to visualize correlation\n",
    "sns.scatterplot(data=merged_df, x=\"appointment_count\", y=\"prescription_count\")\n",
    "plt.title(\"Prescription vs. Appointment Frequency\")\n",
    "plt.xlabel(\"Appointment Count\")\n",
    "plt.ylabel(\"Prescription Count\")\n",
    "plt.show()\n",
    "\n",
    "# Step 5: Pearson correlation\n",
    "correlation = merged_df[\"appointment_count\"].corr(merged_df[\"prescription_count\"])\n",
    "print(f\"Pearson correlation: {correlation:.2f}\")"
   ]
  }
 ],
 "metadata": {
  "kernelspec": {
   "display_name": ".venv",
   "language": "python",
   "name": "python3"
  },
  "language_info": {
   "codemirror_mode": {
    "name": "ipython",
    "version": 3
   },
   "file_extension": ".py",
   "mimetype": "text/x-python",
   "name": "python",
   "nbconvert_exporter": "python",
   "pygments_lexer": "ipython3",
   "version": "3.13.2"
  }
 },
 "nbformat": 4,
 "nbformat_minor": 5
}
